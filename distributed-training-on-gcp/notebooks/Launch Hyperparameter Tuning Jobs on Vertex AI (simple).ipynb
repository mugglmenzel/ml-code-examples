{
 "cells": [
  {
   "cell_type": "markdown",
   "id": "8ad69aeb",
   "metadata": {},
   "source": [
    "# Examples of Launching a Vertex Hyperparameter Training Job"
   ]
  },
  {
   "attachments": {},
   "cell_type": "markdown",
   "id": "fc67453e",
   "metadata": {},
   "source": [
    "Contributor: michaelmenzel@google.com\n",
    "\n",
    "Disclaimer: This is a code example and not intended to be used in production. The author does not take any liability for the use of this code example."
   ]
  },
  {
   "cell_type": "code",
   "execution_count": null,
   "id": "9563cf74",
   "metadata": {},
   "outputs": [],
   "source": [
    "BUCKET='gs://sandbox-michael-menzel-training-europe-west4/trainings/mnist-distributed-vertex'\n",
    "SERVICE_ACCOUNT='928871478446-compute@developer.gserviceaccount.com'\n",
    "REGION='europe-west4'\n",
    "\n",
    "!pip3 install --user --quiet ipywidgets tensorflow tensorflow-datasets pyyaml"
   ]
  },
  {
   "cell_type": "markdown",
   "id": "5de60da1",
   "metadata": {},
   "source": [
    "## MNIST model tuning on a single machine"
   ]
  },
  {
   "cell_type": "code",
   "execution_count": null,
   "id": "7d90f38c",
   "metadata": {},
   "outputs": [],
   "source": [
    "!../trainers/mnist-distributed-vertex/launch_tuning_experiment.sh -e mnist-single-hp -c train-config-single-hp.yaml -j $BUCKET -r $REGION -t -s $SERVICE_ACCOUNT"
   ]
  },
  {
   "cell_type": "markdown",
   "id": "eccca5d2",
   "metadata": {},
   "source": [
    "## MNIST model tuning on a single machine with GPUs"
   ]
  },
  {
   "cell_type": "code",
   "execution_count": null,
   "id": "103276b0",
   "metadata": {},
   "outputs": [],
   "source": [
    "!../trainers/mnist-distributed-vertex/launch_tuning_experiment.sh -e mnist-single-gpu-hp -c train-config-single-gpu-hp.yaml -d Dockerfile.gpu -j $BUCKET -r $REGION -t -s $SERVICE_ACCOUNT"
   ]
  },
  {
   "cell_type": "code",
   "execution_count": null,
   "id": "f95a835d",
   "metadata": {},
   "outputs": [],
   "source": []
  }
 ],
 "metadata": {
  "environment": {
   "name": "tf2-gpu.2-4.m65",
   "type": "gcloud",
   "uri": "gcr.io/deeplearning-platform-release/tf2-gpu.2-4:m65"
  },
  "kernelspec": {
   "display_name": "Python 3",
   "language": "python",
   "name": "python3"
  },
  "language_info": {
   "codemirror_mode": {
    "name": "ipython",
    "version": 3
   },
   "file_extension": ".py",
   "mimetype": "text/x-python",
   "name": "python",
   "nbconvert_exporter": "python",
   "pygments_lexer": "ipython3",
   "version": "3.10.9"
  },
  "vscode": {
   "interpreter": {
    "hash": "aee8b7b246df8f9039afb4144a1f6fd8d2ca17a180786b69acc140d282b71a49"
   }
  }
 },
 "nbformat": 4,
 "nbformat_minor": 5
}
