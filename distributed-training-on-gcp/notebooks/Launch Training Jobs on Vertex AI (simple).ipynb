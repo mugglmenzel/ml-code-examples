{
 "cells": [
  {
   "attachments": {},
   "cell_type": "markdown",
   "id": "744f01cd",
   "metadata": {},
   "source": [
    "# Examples of Launching a Vertex AI Training Job"
   ]
  },
  {
   "attachments": {},
   "cell_type": "markdown",
   "id": "b252e010",
   "metadata": {},
   "source": [
    "Contributor: michaelmenzel@google.com\n",
    "\n",
    "Disclaimer: This is a code example and not intended to be used in production. The author does not take any liability for the use of this code example."
   ]
  },
  {
   "cell_type": "code",
   "execution_count": null,
   "id": "8f0fa3ec",
   "metadata": {},
   "outputs": [],
   "source": [
    "BUCKET='gs://sandbox-michael-menzel-training-europe-west4/trainings/mnist-distributed-vertex'\n",
    "SERVICE_ACCOUNT='928871478446-compute@developer.gserviceaccount.com'\n",
    "REGION='europe-west4'\n",
    "\n",
    "!pip3 install --user --quiet ipywidgets tensorflow tensorflow-datasets pyyaml"
   ]
  },
  {
   "attachments": {},
   "cell_type": "markdown",
   "id": "30fb224c",
   "metadata": {},
   "source": [
    "## Run locally"
   ]
  },
  {
   "cell_type": "code",
   "execution_count": null,
   "id": "d6f42f71",
   "metadata": {},
   "outputs": [],
   "source": [
    "import tensorflow as tf\n",
    "import tensorflow.keras as keras\n",
    "import tensorflow_datasets as tfds\n",
    "\n",
    "(train_data, val_data), mnist_info = tfds.load(\"mnist\", \n",
    "                                               split=['train', 'test'], as_supervised=True, \n",
    "                                               try_gcs=True, with_info=True)\n",
    "\n",
    "@tf.function\n",
    "def norm_data(image, label): \n",
    "    return tf.cast(image, tf.float32) / 255., label\n",
    "\n",
    "train_ds = (train_data\n",
    "            .map(norm_data, num_parallel_calls=tf.data.experimental.AUTOTUNE)\n",
    "            .batch(128, drop_remainder=True)\n",
    "            .cache()\n",
    "            .prefetch(tf.data.experimental.AUTOTUNE))\n",
    "val_ds = (val_data\n",
    "          .map(norm_data, num_parallel_calls=tf.data.experimental.AUTOTUNE)\n",
    "          .batch(128, drop_remainder=True)\n",
    "          .cache()\n",
    "          .prefetch(tf.data.experimental.AUTOTUNE))\n",
    "\n",
    "model = keras.Sequential([\n",
    "        keras.layers.Reshape(target_shape=(28, 28, 1), input_shape=(28, 28)),\n",
    "        keras.layers.Conv2D(filters=64, kernel_size=(5, 5), padding='same', activation='elu'),\n",
    "        keras.layers.MaxPool2D(pool_size=(2, 2), strides=(2, 2)),\n",
    "        keras.layers.Conv2D(filters=128, kernel_size=(5, 5), padding='same', activation='elu'),\n",
    "        keras.layers.MaxPool2D(pool_size=(2, 2), strides=(2, 2)),\n",
    "        keras.layers.Conv2D(filters=256, kernel_size=(5, 5), padding='same', activation='elu'),\n",
    "        keras.layers.MaxPool2D(pool_size=(2, 2), strides=(2, 2)),\n",
    "        keras.layers.Flatten(),\n",
    "        keras.layers.Dense(256, activation='elu'),\n",
    "        keras.layers.Dense(10, activation='softmax')\n",
    "    ])\n",
    "\n",
    "model.compile(optimizer='adam', \n",
    "              loss='sparse_categorical_crossentropy',\n",
    "              metrics=['sparse_categorical_accuracy'])\n",
    "model.fit(train_ds, validation_data=val_ds, epochs=1)\n",
    "model.evaluate(val_ds)\n",
    "model.save('my_model')"
   ]
  },
  {
   "attachments": {},
   "cell_type": "markdown",
   "id": "e824915c",
   "metadata": {},
   "source": [
    "## Automation Level 1: Submit a training job with Cloud SDK CLI"
   ]
  },
  {
   "cell_type": "code",
   "execution_count": null,
   "id": "a9b37611",
   "metadata": {},
   "outputs": [],
   "source": [
    "%cd ../trainers/mnist-distributed-vertex/\n",
    "\n",
    "!gcloud builds submit \\\n",
    "    --substitutions=_TRAINER_NAME=mnist-training,_REGISTRY=eu.gcr.io,_DOCKERFILE=Dockerfile,TAG_NAME=latest \\\n",
    "    --gcs-log-dir=$BUCKET/build/\n",
    "\n",
    "!gcloud ai custom-jobs create --display-name mnist-training-job-$(date +%s) \\\n",
    "    --region=$REGION \\\n",
    "    --config=train-config-single-manual.yaml\n",
    "\n",
    "%cd -"
   ]
  },
  {
   "cell_type": "markdown",
   "id": "fe8946d6",
   "metadata": {},
   "source": [
    "## Automation Level 2: Scripting!"
   ]
  },
  {
   "cell_type": "code",
   "execution_count": null,
   "id": "4cd94527",
   "metadata": {},
   "outputs": [],
   "source": [
    "!../trainers/mnist-distributed-vertex/launch_experiment.sh"
   ]
  },
  {
   "cell_type": "markdown",
   "id": "cb99906f",
   "metadata": {},
   "source": [
    "## MNIST model benchmark on a single machine"
   ]
  },
  {
   "cell_type": "code",
   "execution_count": null,
   "id": "ff9334ec",
   "metadata": {
    "scrolled": true
   },
   "outputs": [],
   "source": [
    "!../trainers/mnist-distributed-vertex/launch_experiment.sh -e mnist-single -B 128 -E 10,20 -c train-config-single.yaml -j $BUCKET -r $REGION -t -s $SERVICE_ACCOUNT"
   ]
  },
  {
   "cell_type": "markdown",
   "id": "9e9789c8",
   "metadata": {},
   "source": [
    "## MNIST model benchmark on a single machine with GPUs"
   ]
  },
  {
   "cell_type": "code",
   "execution_count": null,
   "id": "8a7ab567",
   "metadata": {
    "scrolled": true
   },
   "outputs": [],
   "source": [
    "!../trainers/mnist-distributed-vertex/launch_experiment.sh -e mnist-single-gpu -B 128 -E 20,30 -c train-config-single-gpu.yaml -d Dockerfile.gpu -j $BUCKET -r $REGION -s $SERVICE_ACCOUNT"
   ]
  },
  {
   "cell_type": "markdown",
   "id": "3bebcc54",
   "metadata": {},
   "source": [
    "## MNIST model trained on a distributed cluster"
   ]
  },
  {
   "cell_type": "code",
   "execution_count": null,
   "id": "5ad5c1cd",
   "metadata": {
    "scrolled": true
   },
   "outputs": [],
   "source": [
    "!../trainers/mnist-distributed-vertex/launch_experiment.sh -e mnist-multi -B 128 -E 10,20 -c train-config-cluster.yaml -j $BUCKET -r $REGION -s $SERVICE_ACCOUNT"
   ]
  },
  {
   "cell_type": "markdown",
   "id": "23b73697",
   "metadata": {},
   "source": [
    "## MNIST model trained on a distributed cluster with GPUs"
   ]
  },
  {
   "cell_type": "code",
   "execution_count": null,
   "id": "0d892ba9",
   "metadata": {
    "scrolled": true
   },
   "outputs": [],
   "source": [
    "!../trainers/mnist-distributed-vertex/launch_experiment.sh -e mnist-multi-gpu -B 128 -E 10,50,100 -c train-config-cluster-gpu.yaml -d Dockerfile.gpu -j $BUCKET -r $REGION -s $SERVICE_ACCOUNT"
   ]
  },
  {
   "cell_type": "markdown",
   "id": "bc6c78cb",
   "metadata": {},
   "source": [
    "## Automation Level 3: Python Client"
   ]
  },
  {
   "cell_type": "code",
   "execution_count": null,
   "id": "7db7406b",
   "metadata": {},
   "outputs": [],
   "source": [
    "!pip3 install --user --quiet google-cloud-aiplatform\n",
    "from google.cloud import aiplatform\n",
    "from datetime import datetime\n",
    "import os\n",
    "\n",
    "timestamp = str(int(datetime.now().timestamp()))\n",
    "\n",
    "aiplatform.init(location=REGION)\n",
    "custom_job = aiplatform.CustomJob.from_local_script(\n",
    "        display_name='mnist-from-python-'+timestamp,\n",
    "        staging_bucket=os.path.join(BUCKET, 'mnist-from-python-'+timestamp),\n",
    "        script_path='../trainers/mnist-distributed-vertex/trainer/main.py',\n",
    "        container_uri='europe-docker.pkg.dev/vertex-ai/training/tf-cpu.2-9:latest',\n",
    "        requirements=['cloudml-hypertune', 'tensorflow-datasets'],\n",
    "        replica_count=1, \n",
    "        args=['--batch-size', '128', '--num-epochs', '5']\n",
    "    )\n",
    "\n",
    "custom_job.run(sync=False)"
   ]
  },
  {
   "cell_type": "code",
   "execution_count": null,
   "id": "d81f3f17",
   "metadata": {},
   "outputs": [],
   "source": []
  }
 ],
 "metadata": {
  "environment": {
   "name": "tf2-gpu.2-4.m65",
   "type": "gcloud",
   "uri": "gcr.io/deeplearning-platform-release/tf2-gpu.2-4:m65"
  },
  "kernelspec": {
   "display_name": "Python 3",
   "language": "python",
   "name": "python3"
  },
  "language_info": {
   "codemirror_mode": {
    "name": "ipython",
    "version": 3
   },
   "file_extension": ".py",
   "mimetype": "text/x-python",
   "name": "python",
   "nbconvert_exporter": "python",
   "pygments_lexer": "ipython3",
   "version": "3.10.9 (main, Dec 15 2022, 18:25:35) [Clang 14.0.0 (clang-1400.0.29.202)]"
  },
  "vscode": {
   "interpreter": {
    "hash": "aee8b7b246df8f9039afb4144a1f6fd8d2ca17a180786b69acc140d282b71a49"
   }
  }
 },
 "nbformat": 4,
 "nbformat_minor": 5
}
