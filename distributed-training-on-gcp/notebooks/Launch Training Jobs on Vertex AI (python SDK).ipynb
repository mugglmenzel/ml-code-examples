{
 "cells": [
  {
   "attachments": {},
   "cell_type": "markdown",
   "id": "b235f841-87d3-4fe5-b0ae-491dfb4c5688",
   "metadata": {},
   "source": [
    "# Examples of Launching a Vertex AI Training Job with Python SDK"
   ]
  },
  {
   "attachments": {},
   "cell_type": "markdown",
   "id": "64b1016c",
   "metadata": {},
   "source": [
    "Contributor: michaelmenzel@google.com\n",
    "\n",
    "Disclaimer: This is a code example and not intended to be used in production. The author does not take any liability for the use of this code example."
   ]
  },
  {
   "cell_type": "code",
   "execution_count": null,
   "id": "959227de",
   "metadata": {},
   "outputs": [],
   "source": [
    "!pip install --user -q google-cloud-aiplatform"
   ]
  },
  {
   "cell_type": "code",
   "execution_count": null,
   "id": "c825f0d7-88e5-4842-9979-4005c2f0ae15",
   "metadata": {},
   "outputs": [],
   "source": [
    "from datetime import datetime\n",
    "from google.cloud import aiplatform"
   ]
  },
  {
   "cell_type": "code",
   "execution_count": null,
   "id": "9bb5dff2-2bdc-4706-8743-ec5a20352372",
   "metadata": {},
   "outputs": [],
   "source": [
    "PROJECT_ID = 'sandbox-michael-menzel'\n",
    "STAGING_BUCKET='gs://sandbox-michael-menzel-training-europe-west4/trainings/mnist-distributed-vertex'\n",
    "\n",
    "\n",
    "TIMESTAMP = datetime.now().strftime(\"%Y%m%d%H%M%S\")\n",
    "EXPERIMENT = f'{PROJECT_ID}-mnist-pysdk'\n",
    "JOB_NAME = f'{EXPERIMENT}-{TIMESTAMP}'\n",
    "TRAINER_NAME = 'mnist-training'\n",
    "\n",
    "aiplatform.init(location='europe-west4', experiment=EXPERIMENT)"
   ]
  },
  {
   "attachments": {},
   "cell_type": "markdown",
   "id": "d1ce594c",
   "metadata": {},
   "source": [
    "## Launch Training Job from Script"
   ]
  },
  {
   "cell_type": "code",
   "execution_count": null,
   "id": "d77246ec",
   "metadata": {},
   "outputs": [],
   "source": [
    "vertex_ai_custom_job = aiplatform.CustomJob.from_local_script(\n",
    "    display_name=JOB_NAME,\n",
    "    script_path='../trainers/mnist-distributed-vertex/trainer/main.py',\n",
    "    container_uri='europe-docker.pkg.dev/vertex-ai/training/tf-gpu.2-9:latest',\n",
    "    requirements=['google-cloud-aiplatform[cloud_profiler]==1.15.0'],\n",
    "    machine_type='n1-standard-8',\n",
    "    replica_count=1,\n",
    "    accelerator_type = 'NVIDIA_TESLA_V100',\n",
    "    accelerator_count = 1,\n",
    "    args=['--num-epochs=20'],\n",
    "    staging_bucket=STAGING_BUCKET\n",
    ")\n",
    "vertex_ai_custom_job.run(sync=False)"
   ]
  },
  {
   "attachments": {},
   "cell_type": "markdown",
   "id": "e82b923b",
   "metadata": {},
   "source": [
    "## Build Container Image"
   ]
  },
  {
   "cell_type": "code",
   "execution_count": null,
   "id": "1efd551f-7e45-40b8-83d8-1e487a2db981",
   "metadata": {
    "scrolled": true,
    "tags": []
   },
   "outputs": [],
   "source": [
    "!cd ../trainers/mnist-distributed-vertex; gcloud builds submit --substitutions TAG_NAME=$TIMESTAMP,_TRAINER_NAME=$TRAINER_NAME"
   ]
  },
  {
   "cell_type": "code",
   "execution_count": null,
   "id": "5c52527f-6fd2-4b4e-b6f8-e014aeddf28e",
   "metadata": {
    "scrolled": true,
    "tags": []
   },
   "outputs": [],
   "source": [
    "!cd ../trainers/mnist-distributed-vertex; gcloud builds submit --substitutions TAG_NAME=$TIMESTAMP-gpu,_TRAINER_NAME=$TRAINER_NAME,_DOCKERFILE=Dockerfile.gpu"
   ]
  },
  {
   "cell_type": "code",
   "execution_count": null,
   "id": "9c5c4e49-cb21-4b0c-8776-cfd216718841",
   "metadata": {
    "scrolled": true,
    "tags": []
   },
   "outputs": [],
   "source": [
    "!cd ../trainers/mnist-distributed-vertex; gcloud builds submit --substitutions TAG_NAME=$TIMESTAMP-tpu,_TRAINER_NAME=$TRAINER_NAME,_DOCKERFILE=Dockerfile.tpu"
   ]
  },
  {
   "attachments": {},
   "cell_type": "markdown",
   "id": "c882c1f5",
   "metadata": {},
   "source": [
    "## Launch Training Jobs from Container"
   ]
  },
  {
   "cell_type": "code",
   "execution_count": null,
   "id": "b4ff3ff5",
   "metadata": {},
   "outputs": [],
   "source": [
    "vertex_ai_custom_job_cpu = aiplatform.CustomJob(\n",
    "    display_name=f'{JOB_NAME}-cpu',\n",
    "    worker_pool_specs=[{\n",
    "        'machine_spec': {\n",
    "            'machine_type': 'n1-standard-8',\n",
    "        },\n",
    "        'container_spec': {\n",
    "            'image_uri': f'eu.gcr.io/{PROJECT_ID}/{TRAINER_NAME}:{TIMESTAMP}',\n",
    "            'args': [\n",
    "                '--num-epochs=15'\n",
    "            ]\n",
    "        },\n",
    "        'replica_count': 1\n",
    "    }],\n",
    "    staging_bucket=STAGING_BUCKET,\n",
    ")\n",
    "vertex_ai_custom_job_cpu.run(sync=False)"
   ]
  },
  {
   "cell_type": "code",
   "execution_count": null,
   "id": "1f043be3",
   "metadata": {},
   "outputs": [],
   "source": [
    "vertex_ai_custom_job_gpu = aiplatform.CustomJob(\n",
    "    display_name=f'{JOB_NAME}-gpu',\n",
    "    worker_pool_specs=[{\n",
    "        'machine_spec': {\n",
    "            'machine_type': 'n1-standard-8',\n",
    "            'accelerator_type': 'NVIDIA_TESLA_V100',\n",
    "            'accelerator_count': 1,\n",
    "        },\n",
    "        'container_spec': {\n",
    "            'image_uri': f'eu.gcr.io/{PROJECT_ID}/{TRAINER_NAME}:{TIMESTAMP}-gpu',\n",
    "            'args': [\n",
    "                '--num-epochs=15'\n",
    "            ]\n",
    "        },\n",
    "        'replica_count': 1\n",
    "    }],\n",
    "    staging_bucket=STAGING_BUCKET,\n",
    ")\n",
    "vertex_ai_custom_job_gpu.run(sync=False)"
   ]
  },
  {
   "attachments": {},
   "cell_type": "markdown",
   "id": "4d391807",
   "metadata": {},
   "source": [
    "## Launch Training Pipeline"
   ]
  },
  {
   "cell_type": "code",
   "execution_count": null,
   "id": "f019412e-8c28-422b-9014-e6ef5e257d2b",
   "metadata": {},
   "outputs": [],
   "source": [
    "vertex_ai_custom_job = aiplatform.CustomContainerTrainingJob(\n",
    "    display_name=f'{JOB_NAME}-tpu',\n",
    "    container_uri=f'eu.gcr.io/{PROJECT_ID}/{TRAINER_NAME}:{TIMESTAMP}-tpu',\n",
    "    staging_bucket=STAGING_BUCKET,\n",
    ")"
   ]
  },
  {
   "cell_type": "code",
   "execution_count": null,
   "id": "25b2fed7-683d-4857-a321-f524d6235753",
   "metadata": {
    "scrolled": true,
    "tags": []
   },
   "outputs": [],
   "source": [
    "vertex_ai_model = vertex_ai_custom_job.run(\n",
    "    machine_type='cloud-tpu',\n",
    "    replica_count=1,\n",
    "    accelerator_type = 'TPU_V2',\n",
    "    accelerator_count = 8,\n",
    "    args=['--num-epochs=50'],\n",
    "    sync=False\n",
    ")"
   ]
  },
  {
   "attachments": {},
   "cell_type": "markdown",
   "id": "6f160f05",
   "metadata": {},
   "source": [
    "## Launch Hyperparameter Tuning"
   ]
  },
  {
   "cell_type": "code",
   "execution_count": null,
   "id": "079ff90a-b320-4681-9854-c2355c726491",
   "metadata": {
    "scrolled": true,
    "tags": []
   },
   "outputs": [],
   "source": [
    "vertex_ai_tuning_job = aiplatform.HyperparameterTuningJob(\n",
    "    display_name=f'{JOB_NAME}-hp',\n",
    "    custom_job=vertex_ai_custom_job_gpu,\n",
    "    metric_spec={\n",
    "        'loss': 'minimize'\n",
    "    },\n",
    "    parameter_spec={\n",
    "        'batch-size': aiplatform.hyperparameter_tuning.IntegerParameterSpec(min=2, max=24, scale='linear'),\n",
    "        'learning-rate': aiplatform.hyperparameter_tuning.DoubleParameterSpec(min=0.0005, max=0.01, scale='linear'), \n",
    "        'num-epochs': aiplatform.hyperparameter_tuning.IntegerParameterSpec(min=10, max=100, scale='linear'),\n",
    "        'long-runner': aiplatform.hyperparameter_tuning.CategoricalParameterSpec(['True', 'False'])\n",
    "    },\n",
    "    max_trial_count=30,\n",
    "    parallel_trial_count=3,\n",
    ")\n",
    "\n",
    "vertex_ai_tuned_model = vertex_ai_tuning_job.run(sync=False)"
   ]
  },
  {
   "cell_type": "code",
   "execution_count": null,
   "id": "2b357689-b8b4-41d9-a03e-3e2636c019e1",
   "metadata": {},
   "outputs": [],
   "source": []
  }
 ],
 "metadata": {
  "environment": {
   "kernel": "python3",
   "name": "tf2-gpu.2-8.m100",
   "type": "gcloud",
   "uri": "gcr.io/deeplearning-platform-release/tf2-gpu.2-8:m100"
  },
  "kernelspec": {
   "display_name": "Python 3",
   "language": "python",
   "name": "python3"
  },
  "language_info": {
   "codemirror_mode": {
    "name": "ipython",
    "version": 3
   },
   "file_extension": ".py",
   "mimetype": "text/x-python",
   "name": "python",
   "nbconvert_exporter": "python",
   "pygments_lexer": "ipython3",
   "version": "3.11.1"
  },
  "vscode": {
   "interpreter": {
    "hash": "1a1af0ee75eeea9e2e1ee996c87e7a2b11a0bebd85af04bb136d915cefc0abce"
   }
  }
 },
 "nbformat": 4,
 "nbformat_minor": 5
}
