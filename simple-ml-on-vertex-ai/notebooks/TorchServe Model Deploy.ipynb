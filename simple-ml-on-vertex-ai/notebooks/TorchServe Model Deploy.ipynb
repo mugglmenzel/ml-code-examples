{
 "cells": [
  {
   "cell_type": "markdown",
   "id": "391b66ac",
   "metadata": {},
   "source": [
    "# TorchServe Model on Vertex AI"
   ]
  },
  {
   "cell_type": "markdown",
   "id": "94dff411",
   "metadata": {},
   "source": [
    "## Build Container"
   ]
  },
  {
   "cell_type": "code",
   "execution_count": 2,
   "id": "1e08ca3d",
   "metadata": {
    "scrolled": true
   },
   "outputs": [
    {
     "name": "stdout",
     "output_type": "stream",
     "text": [
      "/home/jupyter/vertex-ai-examples/notebooks/torchserve_mnist\n",
      "Creating temporary tarball archive of 4 file(s) totalling 4.6 MiB before compression.\n",
      "Uploading tarball of [.] to [gs://sandbox-michael-menzel_cloudbuild/source/1649339979.561871-656b923e94f343499ce151240b74e799.tgz]\n",
      "Created [https://cloudbuild.googleapis.com/v1/projects/sandbox-michael-menzel/locations/global/builds/e6b18aed-bc57-4a66-aaaa-fe9b5807799e].\n",
      "Logs are available at [https://console.cloud.google.com/cloud-build/builds/e6b18aed-bc57-4a66-aaaa-fe9b5807799e?project=928871478446].\n",
      "----------------------------- REMOTE BUILD OUTPUT ------------------------------\n",
      "starting build \"e6b18aed-bc57-4a66-aaaa-fe9b5807799e\"\n",
      "\n",
      "FETCHSOURCE\n",
      "Fetching storage object: gs://sandbox-michael-menzel_cloudbuild/source/1649339979.561871-656b923e94f343499ce151240b74e799.tgz#1649339981572550\n",
      "Copying gs://sandbox-michael-menzel_cloudbuild/source/1649339979.561871-656b923e94f343499ce151240b74e799.tgz#1649339981572550...\n",
      "/ [1 files][  4.3 MiB/  4.3 MiB]                                                \n",
      "Operation completed over 1 objects/4.3 MiB.\n",
      "BUILD\n",
      "Already have image (with digest): gcr.io/cloud-builders/docker\n",
      "Sending build context to Docker daemon  4.808MB\n",
      "Step 1/7 : FROM pytorch/torchserve:latest\n",
      "latest: Pulling from pytorch/torchserve\n",
      "68e7bb398b9f: Pulling fs layer\n",
      "42b967903e72: Pulling fs layer\n",
      "4058c86ce323: Pulling fs layer\n",
      "1bb19fb0a0ca: Pulling fs layer\n",
      "d19a8ec2989a: Pulling fs layer\n",
      "d98ef060ad02: Pulling fs layer\n",
      "4f4fb700ef54: Pulling fs layer\n",
      "1bb19fb0a0ca: Waiting\n",
      "d19a8ec2989a: Waiting\n",
      "d98ef060ad02: Waiting\n",
      "4f4fb700ef54: Waiting\n",
      "4058c86ce323: Verifying Checksum\n",
      "4058c86ce323: Download complete\n",
      "1bb19fb0a0ca: Verifying Checksum\n",
      "1bb19fb0a0ca: Download complete\n",
      "68e7bb398b9f: Verifying Checksum\n",
      "68e7bb398b9f: Download complete\n",
      "d19a8ec2989a: Verifying Checksum\n",
      "d19a8ec2989a: Download complete\n",
      "4f4fb700ef54: Verifying Checksum\n",
      "4f4fb700ef54: Download complete\n",
      "68e7bb398b9f: Pull complete\n",
      "42b967903e72: Verifying Checksum\n",
      "42b967903e72: Download complete\n",
      "d98ef060ad02: Verifying Checksum\n",
      "d98ef060ad02: Download complete\n",
      "42b967903e72: Pull complete\n",
      "4058c86ce323: Pull complete\n",
      "1bb19fb0a0ca: Pull complete\n",
      "d19a8ec2989a: Pull complete\n",
      "d98ef060ad02: Pull complete\n",
      "4f4fb700ef54: Pull complete\n",
      "Digest: sha256:ed3989cc00512bdab9b876d64f0ceeac8346158a34b914e252fba0730d00365c\n",
      "Status: Downloaded newer image for pytorch/torchserve:latest\n",
      " ---> 91388738846d\n",
      "Step 2/7 : COPY mnist.py mnist_cnn.pt mnist_handler.py /home/model-server/\n",
      " ---> 6eb78985b885\n",
      "Step 3/7 : USER root\n",
      " ---> Running in 64ffba4b7be6\n",
      "Removing intermediate container 64ffba4b7be6\n",
      " ---> 6381cda53c0b\n",
      "Step 4/7 : RUN printf \"\\nservice_envelope=json\" >> /home/model-server/config.properties\n",
      " ---> Running in 14a29149de9f\n",
      "Removing intermediate container 14a29149de9f\n",
      " ---> 23fbdce1bbac\n",
      "Step 5/7 : USER model-server\n",
      " ---> Running in 12d315ff8ded\n",
      "Removing intermediate container 12d315ff8ded\n",
      " ---> cc4c9fd7ba37\n",
      "Step 6/7 : RUN torch-model-archiver   --model-name=mnist   --version=1.0   --model-file=/home/model-server/mnist.py   --serialized-file=/home/model-server/mnist_cnn.pt   --handler=/home/model-server/mnist_handler.py   --export-path=/home/model-server/model-store\n",
      " ---> Running in 875fcb71d99f\n",
      "Removing intermediate container 875fcb71d99f\n",
      " ---> c0aa05add4cd\n",
      "Step 7/7 : CMD [\"torchserve\",      \"--start\",      \"--ts-config=/home/model-server/config.properties\",      \"--models\",      \"mnist=mnist.mar\"]\n",
      " ---> Running in bd4bdd3361bb\n",
      "Removing intermediate container bd4bdd3361bb\n",
      " ---> 7ed527e2f4b5\n",
      "Successfully built 7ed527e2f4b5\n",
      "Successfully tagged gcr.io/sandbox-michael-menzel/torchserve-mnist-example:latest\n",
      "PUSH\n",
      "Pushing gcr.io/sandbox-michael-menzel/torchserve-mnist-example:latest\n",
      "The push refers to repository [gcr.io/sandbox-michael-menzel/torchserve-mnist-example]\n",
      "9ab3c0b4ec75: Preparing\n",
      "fd2f8ff65058: Preparing\n",
      "5784d36e7ac6: Preparing\n",
      "5f70bf18a086: Preparing\n",
      "5f70bf18a086: Preparing\n",
      "f97cf1ac8054: Preparing\n",
      "ea846579c8f7: Preparing\n",
      "9388c1580446: Preparing\n",
      "7ab59019cd8f: Preparing\n",
      "a8c0e163070a: Preparing\n",
      "1dc52a6b4de8: Preparing\n",
      "ea846579c8f7: Waiting\n",
      "9388c1580446: Waiting\n",
      "7ab59019cd8f: Waiting\n",
      "a8c0e163070a: Waiting\n",
      "1dc52a6b4de8: Waiting\n",
      "5f70bf18a086: Layer already exists\n",
      "fd2f8ff65058: Pushed\n",
      "5784d36e7ac6: Pushed\n",
      "9ab3c0b4ec75: Pushed\n",
      "ea846579c8f7: Pushed\n",
      "7ab59019cd8f: Pushed\n",
      "9388c1580446: Pushed\n",
      "1dc52a6b4de8: Layer already exists\n",
      "a8c0e163070a: Pushed\n",
      "f97cf1ac8054: Pushed\n",
      "latest: digest: sha256:23fafb27b5aba1dfdeebb3392b05dcd6900d108456e840ebde01e87d0796b9fe size: 2627\n",
      "DONE\n",
      "--------------------------------------------------------------------------------\n",
      "ID                                    CREATE_TIME                DURATION  SOURCE                                                                                                IMAGES                                                            STATUS\n",
      "e6b18aed-bc57-4a66-aaaa-fe9b5807799e  2022-04-07T13:59:42+00:00  5M8S      gs://sandbox-michael-menzel_cloudbuild/source/1649339979.561871-656b923e94f343499ce151240b74e799.tgz  gcr.io/sandbox-michael-menzel/torchserve-mnist-example (+1 more)  SUCCESS\n",
      "\n",
      "\n",
      "To take a quick anonymous survey, run:\n",
      "  $ gcloud survey\n",
      "\n"
     ]
    }
   ],
   "source": [
    "%cd torchserve_mnist\n",
    "!gcloud builds submit --tag gcr.io/sandbox-michael-menzel/torchserve-mnist-example:latest"
   ]
  },
  {
   "cell_type": "markdown",
   "id": "df61bdff",
   "metadata": {},
   "source": [
    "## Call Model"
   ]
  },
  {
   "cell_type": "code",
   "execution_count": 1,
   "id": "fba73571",
   "metadata": {},
   "outputs": [],
   "source": [
    "!pip install -q --upgrade google-cloud-aiplatform\n",
    "\n",
    "import base64\n",
    "import tensorflow as tf\n",
    "from google.cloud import aiplatform"
   ]
  },
  {
   "cell_type": "code",
   "execution_count": 14,
   "id": "e2fbcd59",
   "metadata": {},
   "outputs": [],
   "source": [
    "REGION = \"europe-west4\"\n",
    "PROJECT_ID = !gcloud config get-value core/project 2> /dev/null\n",
    "PROJECT_ID = PROJECT_ID[0]\n",
    "\n",
    "client_options = {\"api_endpoint\": f\"{REGION}-aiplatform.googleapis.com\"}\n",
    "aipe_client = aiplatform.gapic.EndpointServiceClient(client_options=client_options)\n",
    "aipp_client = aiplatform.gapic.PredictionServiceClient(client_options=client_options)\n",
    "    \n",
    "def get_prediction(content, endpoint_id):\n",
    "    return aipp_client.predict(endpoint=endpoint_id, instances=[{'data': {'b64': content}}])\n",
    "\n",
    "def predict(gcs_uri, endpoint_id):\n",
    "    return get_prediction(base64.b64encode(tf.io.read_file(gcs_uri).numpy()).decode('utf-8'), endpoint_id)"
   ]
  },
  {
   "cell_type": "code",
   "execution_count": 15,
   "id": "bdf3c5b9",
   "metadata": {
    "scrolled": true
   },
   "outputs": [
    {
     "data": {
      "text/plain": [
       "ListEndpointsPager<endpoints {\n",
       "  name: \"projects/808991868713/locations/europe-west4/endpoints/5011626775961141248\"\n",
       "  display_name: \"torchserve-mnist-example-ep\"\n",
       "  deployed_models {\n",
       "    id: \"6585265409820196864\"\n",
       "    model: \"projects/808991868713/locations/europe-west4/models/1938131136513310720\"\n",
       "    display_name: \"torchserve-mnist-example\"\n",
       "    create_time {\n",
       "      seconds: 1623701789\n",
       "      nanos: 957949000\n",
       "    }\n",
       "    dedicated_resources {\n",
       "      machine_spec {\n",
       "        machine_type: \"n1-standard-2\"\n",
       "      }\n",
       "      min_replica_count: 1\n",
       "      max_replica_count: 1\n",
       "    }\n",
       "  }\n",
       "  traffic_split {\n",
       "    key: \"6585265409820196864\"\n",
       "    value: 100\n",
       "  }\n",
       "  etag: \"AMEw9yOqsJce1akC8Eg57bk1zfSvQgLxgbiNxZE3GeCbb1B2-5FxN59IMSp4rkxQlizf\"\n",
       "  create_time {\n",
       "    seconds: 1623701789\n",
       "    nanos: 957949000\n",
       "  }\n",
       "  update_time {\n",
       "    seconds: 1623702349\n",
       "    nanos: 458833000\n",
       "  }\n",
       "}\n",
       ">"
      ]
     },
     "execution_count": 15,
     "metadata": {},
     "output_type": "execute_result"
    }
   ],
   "source": [
    "aipe_client.list_endpoints(parent=f\"projects/{PROJECT_ID}/locations/{REGION}\")"
   ]
  },
  {
   "cell_type": "code",
   "execution_count": 17,
   "id": "967e163e",
   "metadata": {},
   "outputs": [
    {
     "data": {
      "text/plain": [
       "predictions {\n",
       "  number_value: 5.0\n",
       "}\n",
       "deployed_model_id: \"6585265409820196864\""
      ]
     },
     "execution_count": 17,
     "metadata": {},
     "output_type": "execute_result"
    }
   ],
   "source": [
    "predict('../serve/examples/image_classifier/mnist/test_data/5.png', 'projects/808991868713/locations/europe-west4/endpoints/5011626775961141248')"
   ]
  },
  {
   "cell_type": "code",
   "execution_count": null,
   "id": "d4803ea4",
   "metadata": {},
   "outputs": [],
   "source": []
  }
 ],
 "metadata": {
  "environment": {
   "kernel": "conda-root-py",
   "name": "tf2-gpu.2-6.m91",
   "type": "gcloud",
   "uri": "gcr.io/deeplearning-platform-release/tf2-gpu.2-6:m91"
  },
  "kernelspec": {
   "display_name": "Python [conda env:root] *",
   "language": "python",
   "name": "conda-root-py"
  },
  "language_info": {
   "codemirror_mode": {
    "name": "ipython",
    "version": 3
   },
   "file_extension": ".py",
   "mimetype": "text/x-python",
   "name": "python",
   "nbconvert_exporter": "python",
   "pygments_lexer": "ipython3",
   "version": "3.7.12"
  }
 },
 "nbformat": 4,
 "nbformat_minor": 5
}
