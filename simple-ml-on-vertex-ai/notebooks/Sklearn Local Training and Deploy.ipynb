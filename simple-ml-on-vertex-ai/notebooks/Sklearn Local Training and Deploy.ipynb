{
 "cells": [
  {
   "cell_type": "markdown",
   "id": "f0fcdee8-5e7d-4e4f-9f99-c53d99c1c26d",
   "metadata": {},
   "source": [
    "# Model Deployment on Vertex AI with Scikit-Learn\n",
    "\n",
    "Contributors: michaelmenzel@google.com"
   ]
  },
  {
   "cell_type": "markdown",
   "id": "7f62891b-0aef-4c9d-a9c5-1e0f15321c4e",
   "metadata": {},
   "source": [
    "## Local Model Training"
   ]
  },
  {
   "cell_type": "code",
   "execution_count": 13,
   "id": "10420b6f-246e-4d26-a7ac-a167df3083b2",
   "metadata": {},
   "outputs": [],
   "source": [
    "from google.cloud import storage\n",
    "\n",
    "import numpy as np\n",
    "\n",
    "from sklearn import datasets, svm, metrics\n",
    "from sklearn.model_selection import train_test_split\n",
    "\n",
    "import joblib\n",
    "import os"
   ]
  },
  {
   "cell_type": "code",
   "execution_count": 14,
   "id": "fb614754-0c59-4c84-95fd-0d241c7a4c54",
   "metadata": {},
   "outputs": [],
   "source": [
    "iris = datasets.load_iris()\n",
    "X = iris.data\n",
    "Y = iris.target"
   ]
  },
  {
   "cell_type": "code",
   "execution_count": 15,
   "id": "0839d96c-ba34-4cc8-9bbd-8877b1906760",
   "metadata": {},
   "outputs": [
    {
     "data": {
      "text/plain": [
       "SVC(gamma=0.001)"
      ]
     },
     "execution_count": 15,
     "metadata": {},
     "output_type": "execute_result"
    }
   ],
   "source": [
    "X_train, X_test, y_train, y_test = train_test_split(\n",
    "    X, Y, test_size=0.1, random_state=2184)\n",
    "clf = svm.SVC(gamma=0.001)\n",
    "clf.fit(X_train, y_train)"
   ]
  },
  {
   "cell_type": "code",
   "execution_count": 16,
   "id": "2ba3c53e-c562-46fd-9e4d-e08984016ea2",
   "metadata": {},
   "outputs": [
    {
     "name": "stdout",
     "output_type": "stream",
     "text": [
      "              precision    recall  f1-score   support\n",
      "\n",
      "      setosa       0.43      1.00      0.60         3\n",
      "  versicolor       0.50      0.33      0.40         6\n",
      "   virginica       1.00      0.67      0.80         6\n",
      "\n",
      "    accuracy                           0.60        15\n",
      "   macro avg       0.64      0.67      0.60        15\n",
      "weighted avg       0.69      0.60      0.60        15\n",
      "\n"
     ]
    }
   ],
   "source": [
    "predicted = clf.predict(X_test)\n",
    "print(metrics.classification_report(y_test, predicted, target_names=iris.target_names))"
   ]
  },
  {
   "cell_type": "code",
   "execution_count": 17,
   "id": "4917a6da-820b-47bf-af77-b59b1185e5f7",
   "metadata": {},
   "outputs": [],
   "source": [
    "model_file = 'model.joblib'\n",
    "gcs_path = 'gs://sandbox-michael-menzel-model/sklearn-iris-classifier'\n",
    "\n",
    "joblib.dump(clf, model_file)\n",
    "\n",
    "blob = storage.blob.Blob.from_string(os.path.join(gcs_path, model_file), client=storage.Client())\n",
    "blob.upload_from_filename('model.joblib')"
   ]
  },
  {
   "cell_type": "markdown",
   "id": "5c2ac2f6-bd07-41f4-bc6b-a10212ea25a8",
   "metadata": {},
   "source": [
    "## Model Deployment"
   ]
  },
  {
   "cell_type": "code",
   "execution_count": 18,
   "id": "87866932-cab5-4e00-a35c-fa2dd78956e7",
   "metadata": {},
   "outputs": [],
   "source": [
    "!pip install -q --user --no-warn-conflicts google-cloud-aiplatform"
   ]
  },
  {
   "cell_type": "code",
   "execution_count": 19,
   "id": "2b45558e-10ed-492c-8f4f-a8261239a396",
   "metadata": {},
   "outputs": [],
   "source": [
    "from google.cloud import aiplatform\n",
    "\n",
    "aiplatform.init(location='europe-west4')"
   ]
  },
  {
   "cell_type": "code",
   "execution_count": 20,
   "id": "a5cef2bb-aa2c-4af1-b059-ee8f50150c9d",
   "metadata": {},
   "outputs": [
    {
     "name": "stdout",
     "output_type": "stream",
     "text": [
      "INFO:google.cloud.aiplatform.models:Creating Model\n",
      "INFO:google.cloud.aiplatform.models:Create Model backing LRO: projects/928871478446/locations/europe-west4/models/5176060938918297600/operations/6912226083060318208\n",
      "INFO:google.cloud.aiplatform.models:Model created. Resource name: projects/928871478446/locations/europe-west4/models/5176060938918297600\n",
      "INFO:google.cloud.aiplatform.models:To use this Model in another session:\n",
      "INFO:google.cloud.aiplatform.models:model = aiplatform.Model('projects/928871478446/locations/europe-west4/models/5176060938918297600')\n"
     ]
    }
   ],
   "source": [
    "vertex_ai_model = aiplatform.Model.upload(\n",
    "    display_name='sklearn-iris-classifier',\n",
    "    artifact_uri=gcs_path,\n",
    "    serving_container_image_uri='europe-docker.pkg.dev/vertex-ai/prediction/sklearn-cpu.0-24:latest',\n",
    ")\n",
    " \n",
    "vertex_ai_model.wait()"
   ]
  },
  {
   "cell_type": "code",
   "execution_count": 21,
   "id": "7e21d872-0ff6-4a2a-bf12-0cc4379a36e0",
   "metadata": {},
   "outputs": [
    {
     "name": "stdout",
     "output_type": "stream",
     "text": [
      "INFO:google.cloud.aiplatform.models:Creating Endpoint\n",
      "INFO:google.cloud.aiplatform.models:Create Endpoint backing LRO: projects/928871478446/locations/europe-west4/endpoints/3724564852765622272/operations/5633203788887097344\n",
      "INFO:google.cloud.aiplatform.models:Endpoint created. Resource name: projects/928871478446/locations/europe-west4/endpoints/3724564852765622272\n",
      "INFO:google.cloud.aiplatform.models:To use this Endpoint in another session:\n",
      "INFO:google.cloud.aiplatform.models:endpoint = aiplatform.Endpoint('projects/928871478446/locations/europe-west4/endpoints/3724564852765622272')\n",
      "INFO:google.cloud.aiplatform.models:Deploying model to Endpoint : projects/928871478446/locations/europe-west4/endpoints/3724564852765622272\n",
      "INFO:google.cloud.aiplatform.models:Deploy Endpoint model backing LRO: projects/928871478446/locations/europe-west4/endpoints/3724564852765622272/operations/3327360779673403392\n",
      "INFO:google.cloud.aiplatform.models:Endpoint model deployed. Resource name: projects/928871478446/locations/europe-west4/endpoints/3724564852765622272\n"
     ]
    }
   ],
   "source": [
    "vertex_ai_endpoint = vertex_ai_model.deploy(\n",
    "    deployed_model_display_name='sklearn-iris-classifier-model',\n",
    "    traffic_split={\"0\": 100},\n",
    "    machine_type=\"n1-standard-4\",\n",
    "    min_replica_count=1,\n",
    "    max_replica_count=1,\n",
    ")"
   ]
  },
  {
   "cell_type": "code",
   "execution_count": 22,
   "id": "c08261f7-aaee-4ad4-9873-46ea74cc3352",
   "metadata": {},
   "outputs": [
    {
     "name": "stdout",
     "output_type": "stream",
     "text": [
      "              precision    recall  f1-score   support\n",
      "\n",
      "      setosa       0.43      1.00      0.60         3\n",
      "  versicolor       0.50      0.33      0.40         6\n",
      "   virginica       1.00      0.67      0.80         6\n",
      "\n",
      "    accuracy                           0.60        15\n",
      "   macro avg       0.64      0.67      0.60        15\n",
      "weighted avg       0.69      0.60      0.60        15\n",
      "\n"
     ]
    }
   ],
   "source": [
    "vertex_ai_predicted = vertex_ai_endpoint.predict(X_test.tolist())\n",
    "print(metrics.classification_report(y_test, vertex_ai_predicted.predictions, target_names=iris.target_names))"
   ]
  },
  {
   "cell_type": "code",
   "execution_count": 23,
   "id": "ca941d6d-9015-4105-9244-5bf97744fb06",
   "metadata": {},
   "outputs": [
    {
     "data": {
      "text/plain": [
       "Prediction(predictions=[0.0, 2.0, 1.0, 0.0, 1.0, 2.0, 0.0, 1.0, 0.0, 2.0, 1.0, 0.0, 0.0, 2.0, 0.0], deployed_model_id='3740714479554396160', explanations=None)"
      ]
     },
     "execution_count": 23,
     "metadata": {},
     "output_type": "execute_result"
    }
   ],
   "source": [
    "vertex_ai_predicted"
   ]
  },
  {
   "cell_type": "markdown",
   "id": "b9e80be4-261a-45bb-bc7a-a73561b4dd4b",
   "metadata": {},
   "source": [
    "## Cleanup"
   ]
  },
  {
   "cell_type": "code",
   "execution_count": 24,
   "id": "301ea5db-5e73-4e51-aefd-6cdbadb9e863",
   "metadata": {},
   "outputs": [
    {
     "name": "stdout",
     "output_type": "stream",
     "text": [
      "INFO:google.cloud.aiplatform.models:Undeploying Endpoint model: projects/928871478446/locations/europe-west4/endpoints/3724564852765622272\n",
      "INFO:google.cloud.aiplatform.models:Undeploy Endpoint model backing LRO: projects/928871478446/locations/europe-west4/endpoints/3724564852765622272/operations/1541683527421001728\n",
      "INFO:google.cloud.aiplatform.models:Endpoint model undeployed. Resource name: projects/928871478446/locations/europe-west4/endpoints/3724564852765622272\n",
      "INFO:google.cloud.aiplatform.base:Deleting Endpoint : projects/928871478446/locations/europe-west4/endpoints/3724564852765622272\n",
      "INFO:google.cloud.aiplatform.base:Delete Endpoint  backing LRO: projects/928871478446/locations/europe-west4/operations/6673535302809681920\n",
      "INFO:google.cloud.aiplatform.base:Endpoint deleted. . Resource name: projects/928871478446/locations/europe-west4/endpoints/3724564852765622272\n"
     ]
    }
   ],
   "source": [
    "vertex_ai_endpoint.delete(force=True)"
   ]
  },
  {
   "cell_type": "code",
   "execution_count": 25,
   "id": "9728f7d6-ce01-422d-ac8b-37476da6b932",
   "metadata": {},
   "outputs": [
    {
     "name": "stdout",
     "output_type": "stream",
     "text": [
      "INFO:google.cloud.aiplatform.base:Deleting Model : projects/928871478446/locations/europe-west4/models/5176060938918297600\n",
      "INFO:google.cloud.aiplatform.base:Delete Model  backing LRO: projects/928871478446/locations/europe-west4/operations/3635857354148282368\n",
      "INFO:google.cloud.aiplatform.base:Model deleted. . Resource name: projects/928871478446/locations/europe-west4/models/5176060938918297600\n"
     ]
    }
   ],
   "source": [
    "vertex_ai_model.delete()"
   ]
  },
  {
   "cell_type": "code",
   "execution_count": null,
   "id": "558911d8-b004-4b62-af2e-f92271a5812c",
   "metadata": {},
   "outputs": [],
   "source": []
  }
 ],
 "metadata": {
  "environment": {
   "kernel": "python3",
   "name": "tf2-gpu.2-6.m84",
   "type": "gcloud",
   "uri": "gcr.io/deeplearning-platform-release/tf2-gpu.2-6:m84"
  },
  "kernelspec": {
   "display_name": "Python 3",
   "language": "python",
   "name": "python3"
  },
  "language_info": {
   "codemirror_mode": {
    "name": "ipython",
    "version": 3
   },
   "file_extension": ".py",
   "mimetype": "text/x-python",
   "name": "python",
   "nbconvert_exporter": "python",
   "pygments_lexer": "ipython3",
   "version": "3.7.12"
  }
 },
 "nbformat": 4,
 "nbformat_minor": 5
}
