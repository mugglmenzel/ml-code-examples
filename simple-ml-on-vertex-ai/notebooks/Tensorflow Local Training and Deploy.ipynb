{
 "cells": [
  {
   "cell_type": "markdown",
   "id": "f0fcdee8-5e7d-4e4f-9f99-c53d99c1c26d",
   "metadata": {},
   "source": [
    "# Model Deployment on Vertex AI with Tensorflow\n",
    "\n",
    "Contributors: michaelmenzel@google.com"
   ]
  },
  {
   "cell_type": "markdown",
   "id": "7f62891b-0aef-4c9d-a9c5-1e0f15321c4e",
   "metadata": {},
   "source": [
    "## Local Model Training"
   ]
  },
  {
   "cell_type": "code",
   "execution_count": 14,
   "id": "10420b6f-246e-4d26-a7ac-a167df3083b2",
   "metadata": {},
   "outputs": [],
   "source": [
    "from google.cloud import storage\n",
    "\n",
    "import pandas as pd\n",
    "import numpy as np\n",
    "\n",
    "import tensorflow as tf\n",
    "import tensorflow_datasets as tfds\n",
    "\n",
    "import matplotlib.pyplot as plt\n",
    "\n",
    "import joblib\n",
    "import os"
   ]
  },
  {
   "cell_type": "code",
   "execution_count": 15,
   "id": "fb614754-0c59-4c84-95fd-0d241c7a4c54",
   "metadata": {},
   "outputs": [
    {
     "data": {
      "text/plain": [
       "tfds.core.DatasetInfo(\n",
       "    name='iris',\n",
       "    full_name='iris/2.0.0',\n",
       "    description=\"\"\"\n",
       "    This is perhaps the best known database to be found in the pattern recognition\n",
       "    literature. Fisher's paper is a classic in the field and is referenced\n",
       "    frequently to this day. (See Duda & Hart, for example.) The data set contains\n",
       "    3 classes of 50 instances each, where each class refers to a type of iris\n",
       "    plant. One class is linearly separable from the other 2; the latter are NOT\n",
       "    linearly separable from each other.\n",
       "    \"\"\",\n",
       "    homepage='https://archive.ics.uci.edu/ml/datasets/iris',\n",
       "    data_path='/home/jupyter/tensorflow_datasets/iris/2.0.0',\n",
       "    download_size=4.44 KiB,\n",
       "    dataset_size=7.62 KiB,\n",
       "    features=FeaturesDict({\n",
       "        'features': Tensor(shape=(4,), dtype=tf.float32),\n",
       "        'label': ClassLabel(shape=(), dtype=tf.int64, num_classes=3),\n",
       "    }),\n",
       "    supervised_keys=('features', 'label'),\n",
       "    disable_shuffling=False,\n",
       "    splits={\n",
       "        'train': <SplitInfo num_examples=150, num_shards=1>,\n",
       "    },\n",
       "    citation=\"\"\"@misc{Dua:2019 ,\n",
       "    author = \"Dua, Dheeru and Graff, Casey\",\n",
       "    year = \"2017\",\n",
       "    title = \"{UCI} Machine Learning Repository\",\n",
       "    url = \"http://archive.ics.uci.edu/ml\",\n",
       "    institution = \"University of California, Irvine, School of Information and Computer Sciences\"\n",
       "    }\"\"\",\n",
       ")"
      ]
     },
     "execution_count": 15,
     "metadata": {},
     "output_type": "execute_result"
    }
   ],
   "source": [
    "iris_data, iris_info = tfds.load('iris', split='train', with_info=True)\n",
    "iris_info"
   ]
  },
  {
   "cell_type": "code",
   "execution_count": 16,
   "id": "c335f685-f195-4556-9d59-e5ac6d940701",
   "metadata": {},
   "outputs": [],
   "source": [
    "iris_ds = iris_data.map(lambda x: (x['features'], tf.one_hot(x['label'], iris_info.features['label'].num_classes))).batch(5)\n",
    "iris_train = iris_ds.skip(15)\n",
    "iris_test = iris_ds.take(15)"
   ]
  },
  {
   "cell_type": "code",
   "execution_count": 17,
   "id": "0839d96c-ba34-4cc8-9bbd-8877b1906760",
   "metadata": {},
   "outputs": [
    {
     "name": "stdout",
     "output_type": "stream",
     "text": [
      "Model: \"sequential_1\"\n",
      "_________________________________________________________________\n",
      "Layer (type)                 Output Shape              Param #   \n",
      "=================================================================\n",
      "dense_2 (Dense)              (None, 8)                 40        \n",
      "_________________________________________________________________\n",
      "dense_3 (Dense)              (None, 3)                 27        \n",
      "=================================================================\n",
      "Total params: 67\n",
      "Trainable params: 67\n",
      "Non-trainable params: 0\n",
      "_________________________________________________________________\n"
     ]
    },
    {
     "data": {
      "image/png": "[encoded data removed]",
      "text/plain": [
       "<Figure size 432x288 with 1 Axes>"
      ]
     },
     "metadata": {
      "needs_background": "light"
     },
     "output_type": "display_data"
    },
    {
     "data": {
      "image/png": "[encoded data removed]",
      "text/plain": [
       "<Figure size 432x288 with 1 Axes>"
      ]
     },
     "metadata": {
      "needs_background": "light"
     },
     "output_type": "display_data"
    }
   ],
   "source": [
    "model = tf.keras.Sequential([\n",
    "    tf.keras.layers.Dense(8, input_shape=iris_info.features['features'].shape),\n",
    "    tf.keras.layers.Dense(iris_info.features['label'].num_classes, activation='softmax')  \n",
    "])\n",
    "model.summary()\n",
    "\n",
    "model.compile(optimizer='adam', loss='categorical_crossentropy', \n",
    "              metrics=['categorical_accuracy', tf.keras.metrics.Precision(), tf.keras.metrics.Recall()])\n",
    "history = model.fit(iris_train, epochs=100, verbose=0)\n",
    "\n",
    "df_hist = pd.DataFrame(history.history)\n",
    "df_hist['loss'].plot()\n",
    "plt.show()\n",
    "df_hist['categorical_accuracy'].plot()\n",
    "plt.show()"
   ]
  },
  {
   "cell_type": "code",
   "execution_count": 18,
   "id": "2ba3c53e-c562-46fd-9e4d-e08984016ea2",
   "metadata": {},
   "outputs": [
    {
     "name": "stdout",
     "output_type": "stream",
     "text": [
      "15/15 - 0s - loss: 0.2787 - categorical_accuracy: 0.9867 - precision_2: 0.9867 - recall_2: 0.9867\n"
     ]
    }
   ],
   "source": [
    "loss, accuracy, precision, recall = model.evaluate(iris_test, verbose=2)"
   ]
  },
  {
   "cell_type": "code",
   "execution_count": 19,
   "id": "4917a6da-820b-47bf-af77-b59b1185e5f7",
   "metadata": {},
   "outputs": [
    {
     "name": "stdout",
     "output_type": "stream",
     "text": [
      "INFO:tensorflow:Assets written to: gs://sandbox-michael-menzel-model/tf-iris-classifier/model.tfmodel/assets\n"
     ]
    },
    {
     "name": "stderr",
     "output_type": "stream",
     "text": [
      "INFO:tensorflow:Assets written to: gs://sandbox-michael-menzel-model/tf-iris-classifier/model.tfmodel/assets\n"
     ]
    }
   ],
   "source": [
    "model_file = 'gs://sandbox-michael-menzel-model/tf-iris-classifier/model.tfmodel'\n",
    "\n",
    "model.save(model_file)"
   ]
  },
  {
   "cell_type": "markdown",
   "id": "5c2ac2f6-bd07-41f4-bc6b-a10212ea25a8",
   "metadata": {},
   "source": [
    "## Model Deployment"
   ]
  },
  {
   "cell_type": "code",
   "execution_count": 20,
   "id": "87866932-cab5-4e00-a35c-fa2dd78956e7",
   "metadata": {},
   "outputs": [],
   "source": [
    "!pip install -q --user --no-warn-conflicts google-cloud-aiplatform"
   ]
  },
  {
   "cell_type": "code",
   "execution_count": 21,
   "id": "2b45558e-10ed-492c-8f4f-a8261239a396",
   "metadata": {},
   "outputs": [],
   "source": [
    "from google.cloud import aiplatform\n",
    "\n",
    "aiplatform.init(location='europe-west4')"
   ]
  },
  {
   "cell_type": "code",
   "execution_count": 22,
   "id": "a5cef2bb-aa2c-4af1-b059-ee8f50150c9d",
   "metadata": {},
   "outputs": [],
   "source": [
    "vertex_ai_model = aiplatform.Model.upload(\n",
    "    display_name='tf-iris-classifier',\n",
    "    artifact_uri=model_file,\n",
    "    serving_container_image_uri='europe-docker.pkg.dev/vertex-ai/prediction/tf2-cpu.2-6:latest',\n",
    ")\n",
    " \n",
    "vertex_ai_model.wait()"
   ]
  },
  {
   "cell_type": "code",
   "execution_count": 23,
   "id": "7e21d872-0ff6-4a2a-bf12-0cc4379a36e0",
   "metadata": {},
   "outputs": [],
   "source": [
    "vertex_ai_endpoint = vertex_ai_model.deploy(\n",
    "    deployed_model_display_name='tf-iris-classifier-model',\n",
    "    traffic_split={\"0\": 100},\n",
    "    machine_type=\"n1-standard-4\",\n",
    "    min_replica_count=1,\n",
    "    max_replica_count=1,\n",
    ")"
   ]
  },
  {
   "cell_type": "code",
   "execution_count": 24,
   "id": "c08261f7-aaee-4ad4-9873-46ea74cc3352",
   "metadata": {},
   "outputs": [
    {
     "name": "stdout",
     "output_type": "stream",
     "text": [
      "categorical accuracy: [1. 1. 1. 1. 1.]\n",
      "categorical accuracy: [1. 1. 1. 1. 1.]\n",
      "categorical accuracy: [1. 1. 1. 1. 1.]\n",
      "categorical accuracy: [1. 1. 1. 1. 1.]\n",
      "categorical accuracy: [1. 1. 1. 1. 1.]\n",
      "categorical accuracy: [1. 1. 1. 1. 1.]\n",
      "categorical accuracy: [1. 1. 1. 1. 1.]\n",
      "categorical accuracy: [1. 1. 1. 1. 1.]\n",
      "categorical accuracy: [1. 1. 1. 1. 1.]\n",
      "categorical accuracy: [1. 1. 1. 1. 1.]\n",
      "categorical accuracy: [1. 1. 1. 1. 1.]\n",
      "categorical accuracy: [1. 1. 1. 1. 1.]\n",
      "categorical accuracy: [1. 1. 0. 1. 1.]\n",
      "categorical accuracy: [1. 1. 1. 1. 1.]\n",
      "categorical accuracy: [1. 1. 1. 1. 1.]\n",
      "precision: 0.9866666793823242\n",
      "recall: 0.9866666793823242\n"
     ]
    }
   ],
   "source": [
    "precision = tf.keras.metrics.Precision()\n",
    "recall = tf.keras.metrics.Recall()\n",
    "\n",
    "for X_test, y_test in iris_test.as_numpy_iterator():\n",
    "    vertex_ai_predicted = vertex_ai_endpoint.predict(X_test.tolist())\n",
    "    print(f'categorical accuracy: {tf.keras.metrics.categorical_accuracy(y_test, vertex_ai_predicted.predictions)}')\n",
    "    precision.update_state(y_test, vertex_ai_predicted.predictions)\n",
    "    recall.update_state(y_test, vertex_ai_predicted.predictions)\n",
    "\n",
    "print(f'precision: {precision.result()}')\n",
    "print(f'recall: {precision.result()}')"
   ]
  },
  {
   "cell_type": "markdown",
   "id": "b9e80be4-261a-45bb-bc7a-a73561b4dd4b",
   "metadata": {},
   "source": [
    "## Cleanup"
   ]
  },
  {
   "cell_type": "code",
   "execution_count": 12,
   "id": "301ea5db-5e73-4e51-aefd-6cdbadb9e863",
   "metadata": {},
   "outputs": [],
   "source": [
    "vertex_ai_endpoint.delete(force=True)"
   ]
  },
  {
   "cell_type": "code",
   "execution_count": 13,
   "id": "9728f7d6-ce01-422d-ac8b-37476da6b932",
   "metadata": {},
   "outputs": [],
   "source": [
    "vertex_ai_model.delete()"
   ]
  },
  {
   "cell_type": "code",
   "execution_count": null,
   "id": "e076664b-2b57-4516-887b-400ae1eadc2d",
   "metadata": {},
   "outputs": [],
   "source": []
  }
 ],
 "metadata": {
  "environment": {
   "kernel": "python3",
   "name": "tf2-gpu.2-6.m84",
   "type": "gcloud",
   "uri": "gcr.io/deeplearning-platform-release/tf2-gpu.2-6:m84"
  },
  "kernelspec": {
   "display_name": "Python 3",
   "language": "python",
   "name": "python3"
  },
  "language_info": {
   "codemirror_mode": {
    "name": "ipython",
    "version": 3
   },
   "file_extension": ".py",
   "mimetype": "text/x-python",
   "name": "python",
   "nbconvert_exporter": "python",
   "pygments_lexer": "ipython3",
   "version": "3.7.12"
  }
 },
 "nbformat": 4,
 "nbformat_minor": 5
}
