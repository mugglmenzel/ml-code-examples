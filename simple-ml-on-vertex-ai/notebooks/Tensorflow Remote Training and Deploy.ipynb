{
 "cells": [
  {
   "cell_type": "markdown",
   "id": "f0fcdee8-5e7d-4e4f-9f99-c53d99c1c26d",
   "metadata": {},
   "source": [
    "# Model Deployment on Vertex AI with Tensorflow\n",
    "\n",
    "Contributors: michaelmenzel@google.com"
   ]
  },
  {
   "cell_type": "code",
   "execution_count": 11,
   "id": "87866932-cab5-4e00-a35c-fa2dd78956e7",
   "metadata": {},
   "outputs": [],
   "source": [
    "!pip install -q --user --no-warn-conflicts google-cloud-aiplatform"
   ]
  },
  {
   "cell_type": "code",
   "execution_count": 11,
   "id": "2b45558e-10ed-492c-8f4f-a8261239a396",
   "metadata": {},
   "outputs": [],
   "source": [
    "from google.cloud import aiplatform\n",
    "\n",
    "aiplatform.init(location='europe-west4')"
   ]
  },
  {
   "cell_type": "markdown",
   "id": "7f62891b-0aef-4c9d-a9c5-1e0f15321c4e",
   "metadata": {},
   "source": [
    "## Model Training"
   ]
  },
  {
   "cell_type": "code",
   "execution_count": 12,
   "id": "10420b6f-246e-4d26-a7ac-a167df3083b2",
   "metadata": {},
   "outputs": [
    {
     "name": "stdout",
     "output_type": "stream",
     "text": [
      "Overwriting tf_train.py\n"
     ]
    }
   ],
   "source": [
    "%%writefile tf_train.py\n",
    "\n",
    "import numpy as np\n",
    "\n",
    "import tensorflow as tf\n",
    "import tensorflow_datasets as tfds\n",
    "\n",
    "import argparse\n",
    "import joblib\n",
    "import os\n",
    "\n",
    "parser = argparse.ArgumentParser()\n",
    "parser.add_argument('--epochs', dest='epochs',\n",
    "                    default=20, type=int,\n",
    "                    help='Epocsh to run the model fit function.')\n",
    "args = parser.parse_args()\n",
    "\n",
    "iris_data, iris_info = tfds.load('iris', split='train', with_info=True)\n",
    "\n",
    "iris_ds = iris_data.map(lambda x: (x['features'], tf.one_hot(x['label'], iris_info.features['label'].num_classes))).batch(5)\n",
    "iris_train = iris_ds.skip(15)\n",
    "iris_test = iris_ds.take(15)\n",
    "\n",
    "model = tf.keras.Sequential([\n",
    "    tf.keras.layers.Dense(8, input_shape=iris_info.features['features'].shape),\n",
    "    tf.keras.layers.Dense(iris_info.features['label'].num_classes, activation='softmax')  \n",
    "])\n",
    "model.summary()\n",
    "\n",
    "model.compile(optimizer='adam', loss='categorical_crossentropy', \n",
    "              metrics=['categorical_accuracy', tf.keras.metrics.Precision(), tf.keras.metrics.Recall()])\n",
    "model.fit(iris_train, epochs=args.epochs, verbose=2)\n",
    "\n",
    "model.evaluate(iris_test, verbose=2)\n",
    "model.save(os.getenv(\"AIP_MODEL_DIR\"))"
   ]
  },
  {
   "cell_type": "code",
   "execution_count": 13,
   "id": "4917a6da-820b-47bf-af77-b59b1185e5f7",
   "metadata": {},
   "outputs": [
    {
     "name": "stdout",
     "output_type": "stream",
     "text": [
      "INFO:google.cloud.aiplatform.utils.source_utils:Training script copied to:\n",
      "gs://sandbox-michael-menzel-training-europe-west4/tf-iris-classifier-training/aiplatform-2022-01-21-22:00:19.659-aiplatform_custom_trainer_script-0.1.tar.gz.\n",
      "INFO:google.cloud.aiplatform.training_jobs:Training Output directory:\n",
      "gs://sandbox-michael-menzel-training-europe-west4/tf-iris-classifier-training/aiplatform-custom-training-2022-01-21-22:00:19.860 \n",
      "INFO:google.cloud.aiplatform.training_jobs:View Training:\n",
      "https://console.cloud.google.com/ai/platform/locations/europe-west4/training/855703720409694208?project=928871478446\n",
      "INFO:google.cloud.aiplatform.training_jobs:CustomTrainingJob projects/928871478446/locations/europe-west4/trainingPipelines/855703720409694208 current state:\n",
      "PipelineState.PIPELINE_STATE_RUNNING\n",
      "INFO:google.cloud.aiplatform.training_jobs:View backing custom job:\n",
      "https://console.cloud.google.com/ai/platform/locations/europe-west4/training/1676484752497967104?project=928871478446\n",
      "INFO:google.cloud.aiplatform.training_jobs:CustomTrainingJob projects/928871478446/locations/europe-west4/trainingPipelines/855703720409694208 current state:\n",
      "PipelineState.PIPELINE_STATE_RUNNING\n",
      "INFO:google.cloud.aiplatform.training_jobs:CustomTrainingJob projects/928871478446/locations/europe-west4/trainingPipelines/855703720409694208 current state:\n",
      "PipelineState.PIPELINE_STATE_RUNNING\n",
      "INFO:google.cloud.aiplatform.training_jobs:CustomTrainingJob projects/928871478446/locations/europe-west4/trainingPipelines/855703720409694208 current state:\n",
      "PipelineState.PIPELINE_STATE_RUNNING\n",
      "INFO:google.cloud.aiplatform.training_jobs:CustomTrainingJob projects/928871478446/locations/europe-west4/trainingPipelines/855703720409694208 current state:\n",
      "PipelineState.PIPELINE_STATE_RUNNING\n",
      "INFO:google.cloud.aiplatform.training_jobs:CustomTrainingJob projects/928871478446/locations/europe-west4/trainingPipelines/855703720409694208 current state:\n",
      "PipelineState.PIPELINE_STATE_RUNNING\n",
      "INFO:google.cloud.aiplatform.training_jobs:CustomTrainingJob run completed. Resource name: projects/928871478446/locations/europe-west4/trainingPipelines/855703720409694208\n",
      "INFO:google.cloud.aiplatform.training_jobs:Model available at projects/928871478446/locations/europe-west4/models/7144485819800092672\n"
     ]
    }
   ],
   "source": [
    "vertex_ai_job = aiplatform.CustomTrainingJob(\n",
    "    display_name='tf-iris-classifier-training',\n",
    "    script_path='tf_train.py',\n",
    "    container_uri='europe-docker.pkg.dev/vertex-ai/training/tf-cpu.2-6:latest',\n",
    "    staging_bucket='gs://sandbox-michael-menzel-training-europe-west4/tf-iris-classifier-training/',\n",
    "    requirements=['tensorflow-datasets'],\n",
    "    model_serving_container_image_uri='europe-docker.pkg.dev/vertex-ai/prediction/tf2-cpu.2-6:latest',\n",
    ")\n",
    "\n",
    "vertex_ai_model = vertex_ai_job.run(\n",
    "    replica_count=1, \n",
    "    machine_type='e2-standard-8',\n",
    "    args=[\n",
    "        f\"--epochs=100\",\n",
    "    ]\n",
    ")"
   ]
  },
  {
   "cell_type": "code",
   "execution_count": 14,
   "id": "7e21d872-0ff6-4a2a-bf12-0cc4379a36e0",
   "metadata": {},
   "outputs": [
    {
     "name": "stdout",
     "output_type": "stream",
     "text": [
      "INFO:google.cloud.aiplatform.models:Creating Endpoint\n",
      "INFO:google.cloud.aiplatform.models:Create Endpoint backing LRO: projects/928871478446/locations/europe-west4/endpoints/345035544889131008/operations/8028437093438980096\n",
      "INFO:google.cloud.aiplatform.models:Endpoint created. Resource name: projects/928871478446/locations/europe-west4/endpoints/345035544889131008\n",
      "INFO:google.cloud.aiplatform.models:To use this Endpoint in another session:\n",
      "INFO:google.cloud.aiplatform.models:endpoint = aiplatform.Endpoint('projects/928871478446/locations/europe-west4/endpoints/345035544889131008')\n",
      "INFO:google.cloud.aiplatform.models:Deploying model to Endpoint : projects/928871478446/locations/europe-west4/endpoints/345035544889131008\n",
      "INFO:google.cloud.aiplatform.models:Deploy Endpoint model backing LRO: projects/928871478446/locations/europe-west4/endpoints/345035544889131008/operations/5159644130803974144\n",
      "INFO:google.cloud.aiplatform.models:Endpoint model deployed. Resource name: projects/928871478446/locations/europe-west4/endpoints/345035544889131008\n"
     ]
    }
   ],
   "source": [
    "vertex_ai_endpoint = vertex_ai_model.deploy(\n",
    "    deployed_model_display_name='tf-iris-classifier-endpoint',\n",
    "    traffic_split={\"0\": 100},\n",
    "    machine_type=\"n1-standard-4\",\n",
    "    min_replica_count=1,\n",
    "    max_replica_count=1,\n",
    ")"
   ]
  },
  {
   "cell_type": "code",
   "execution_count": 15,
   "id": "1a93b41f-d11a-4b1b-8100-d416f8cfbf60",
   "metadata": {},
   "outputs": [
    {
     "data": {
      "text/plain": [
       "<google.cloud.aiplatform.models.Endpoint object at 0x7efc4de648d0> \n",
       "resource name: projects/928871478446/locations/europe-west4/endpoints/345035544889131008"
      ]
     },
     "execution_count": 15,
     "metadata": {},
     "output_type": "execute_result"
    }
   ],
   "source": [
    "vertex_ai_endpoint"
   ]
  },
  {
   "cell_type": "code",
   "execution_count": 16,
   "id": "c7fa7345-e10c-41e4-b805-ef8669b8a929",
   "metadata": {},
   "outputs": [
    {
     "data": {
      "text/plain": [
       "<google.cloud.aiplatform.models.Endpoint object at 0x7efc09041a90> \n",
       "resource name: projects/928871478446/locations/europe-west4/endpoints/345035544889131008"
      ]
     },
     "execution_count": 16,
     "metadata": {},
     "output_type": "execute_result"
    }
   ],
   "source": [
    "aiplatform.models.Endpoint('projects/928871478446/locations/europe-west4/endpoints/345035544889131008')"
   ]
  },
  {
   "cell_type": "code",
   "execution_count": 16,
   "id": "c08261f7-aaee-4ad4-9873-46ea74cc3352",
   "metadata": {},
   "outputs": [
    {
     "name": "stdout",
     "output_type": "stream",
     "text": [
      "INFO:absl:Load dataset info from /home/jupyter/tensorflow_datasets/iris/2.0.0\n",
      "INFO:absl:Reusing dataset iris (/home/jupyter/tensorflow_datasets/iris/2.0.0)\n",
      "INFO:absl:Constructing tf.data.Dataset iris for split train, from /home/jupyter/tensorflow_datasets/iris/2.0.0\n",
      "categorical accuracy: [1. 1. 1. 1. 1.]\n",
      "categorical accuracy: [1. 1. 1. 1. 1.]\n",
      "categorical accuracy: [1. 1. 1. 1. 1.]\n",
      "categorical accuracy: [1. 1. 1. 1. 1.]\n",
      "categorical accuracy: [1. 1. 1. 1. 1.]\n",
      "categorical accuracy: [1. 1. 1. 1. 1.]\n",
      "categorical accuracy: [1. 1. 1. 1. 1.]\n",
      "categorical accuracy: [1. 1. 1. 1. 1.]\n",
      "categorical accuracy: [1. 1. 1. 1. 1.]\n",
      "categorical accuracy: [1. 1. 1. 1. 1.]\n",
      "categorical accuracy: [1. 1. 1. 1. 1.]\n",
      "categorical accuracy: [1. 1. 1. 1. 1.]\n",
      "categorical accuracy: [1. 1. 1. 1. 1.]\n",
      "categorical accuracy: [0. 1. 1. 1. 1.]\n",
      "categorical accuracy: [1. 1. 1. 1. 1.]\n"
     ]
    },
    {
     "name": "stderr",
     "output_type": "stream",
     "text": [
      "2021-10-21 12:56:53.132398: W tensorflow/core/kernels/data/cache_dataset_ops.cc:768] The calling iterator did not fully read the dataset being cached. In order to avoid unexpected truncation of the dataset, the partially cached contents of the dataset  will be discarded. This can happen if you have an input pipeline similar to `dataset.cache().take(k).repeat()`. You should use `dataset.take(k).cache().repeat()` instead.\n"
     ]
    },
    {
     "name": "stdout",
     "output_type": "stream",
     "text": [
      "precision: 0.9866666793823242\n",
      "recall: 0.9866666793823242\n"
     ]
    }
   ],
   "source": [
    "import tensorflow as tf\n",
    "import tensorflow_datasets as tfds\n",
    "\n",
    "iris_data, iris_info = tfds.load('iris', split='train', with_info=True)\n",
    "iris_ds = iris_data.map(lambda x: (x['features'], tf.one_hot(x['label'], iris_info.features['label'].num_classes))).batch(5)\n",
    "iris_train = iris_ds.skip(15)\n",
    "iris_test = iris_ds.take(15)\n",
    "\n",
    "precision = tf.keras.metrics.Precision()\n",
    "recall = tf.keras.metrics.Recall()\n",
    "\n",
    "for X_test, y_test in iris_test.as_numpy_iterator():\n",
    "    vertex_ai_predicted = vertex_ai_endpoint.predict(X_test.tolist())\n",
    "    print(f'categorical accuracy: {tf.keras.metrics.categorical_accuracy(y_test, vertex_ai_predicted.predictions)}')\n",
    "    precision.update_state(y_test, vertex_ai_predicted.predictions)\n",
    "    recall.update_state(y_test, vertex_ai_predicted.predictions)\n",
    "\n",
    "print(f'precision: {precision.result()}')\n",
    "print(f'recall: {precision.result()}')"
   ]
  },
  {
   "cell_type": "markdown",
   "id": "b9e80be4-261a-45bb-bc7a-a73561b4dd4b",
   "metadata": {},
   "source": [
    "## Cleanup"
   ]
  },
  {
   "cell_type": "code",
   "execution_count": 11,
   "id": "301ea5db-5e73-4e51-aefd-6cdbadb9e863",
   "metadata": {},
   "outputs": [
    {
     "name": "stdout",
     "output_type": "stream",
     "text": [
      "INFO:google.cloud.aiplatform.models:Undeploying Endpoint model: projects/928871478446/locations/europe-west4/endpoints/8187420977257250816\n",
      "INFO:google.cloud.aiplatform.models:Undeploy Endpoint model backing LRO: projects/928871478446/locations/europe-west4/endpoints/8187420977257250816/operations/2105935302609600512\n",
      "INFO:google.cloud.aiplatform.models:Endpoint model undeployed. Resource name: projects/928871478446/locations/europe-west4/endpoints/8187420977257250816\n",
      "INFO:google.cloud.aiplatform.base:Deleting Endpoint : projects/928871478446/locations/europe-west4/endpoints/8187420977257250816\n",
      "INFO:google.cloud.aiplatform.base:Delete Endpoint  backing LRO: projects/928871478446/locations/europe-west4/operations/7108308588711378944\n",
      "INFO:google.cloud.aiplatform.base:Endpoint deleted. . Resource name: projects/928871478446/locations/europe-west4/endpoints/8187420977257250816\n"
     ]
    }
   ],
   "source": [
    "vertex_ai_endpoint.delete(force=True)"
   ]
  },
  {
   "cell_type": "code",
   "execution_count": 12,
   "id": "9728f7d6-ce01-422d-ac8b-37476da6b932",
   "metadata": {},
   "outputs": [
    {
     "name": "stdout",
     "output_type": "stream",
     "text": [
      "INFO:google.cloud.aiplatform.base:Deleting Model : projects/928871478446/locations/europe-west4/models/7421386828139200512\n",
      "INFO:google.cloud.aiplatform.base:Delete Model  backing LRO: projects/928871478446/locations/europe-west4/operations/1586895445555150848\n",
      "INFO:google.cloud.aiplatform.base:Model deleted. . Resource name: projects/928871478446/locations/europe-west4/models/7421386828139200512\n"
     ]
    }
   ],
   "source": [
    "vertex_ai_model.delete()"
   ]
  }
 ],
 "metadata": {
  "environment": {
   "kernel": "python3",
   "name": "tf2-gpu.2-6.m87",
   "type": "gcloud",
   "uri": "gcr.io/deeplearning-platform-release/tf2-gpu.2-6:m87"
  },
  "kernelspec": {
   "display_name": "Python 3",
   "language": "python",
   "name": "python3"
  },
  "language_info": {
   "codemirror_mode": {
    "name": "ipython",
    "version": 3
   },
   "file_extension": ".py",
   "mimetype": "text/x-python",
   "name": "python",
   "nbconvert_exporter": "python",
   "pygments_lexer": "ipython3",
   "version": "3.7.12"
  }
 },
 "nbformat": 4,
 "nbformat_minor": 5
}
