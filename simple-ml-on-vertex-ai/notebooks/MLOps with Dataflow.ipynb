{
 "cells": [
  {
   "cell_type": "markdown",
   "id": "4d648991-fe29-45da-a130-2ccc39e120ca",
   "metadata": {},
   "source": [
    "# MLOps Dataflow Pipeline"
   ]
  },
  {
   "cell_type": "code",
   "execution_count": 1,
   "id": "bb12223a-c7d2-4fd9-9e34-583dc4a19de6",
   "metadata": {},
   "outputs": [],
   "source": [
    "!pip install --user --quiet --upgrade google-cloud-pipeline-components apache-beam[gcp,interactive]\n",
    "from datetime import datetime\n",
    "import os\n",
    "\n",
    "from google.cloud import aiplatform as aip\n",
    "\n",
    "from typing import NamedTuple\n",
    "\n",
    "from kfp.v2 import dsl\n",
    "from kfp.v2 import compiler\n",
    "\n",
    "from google_cloud_pipeline_components import aiplatform as gcc_aip\n",
    "from google_cloud_pipeline_components.types import artifact_types"
   ]
  },
  {
   "cell_type": "code",
   "execution_count": 2,
   "id": "cb06227b-45c6-4ba6-9d54-b28af39a55ad",
   "metadata": {},
   "outputs": [],
   "source": [
    "PROJECT = 'sandbox-michael-menzel'\n",
    "REGION = 'europe-west4'\n",
    "BUCKET = 'gs://sandbox-michael-menzel-training-europe-west4/staging'\n",
    "\n",
    "DATA_FILE = 'gs://sandbox-michael-menzel-data-europe-west4/advertising-regression-data/advertising.csv'\n",
    "\n",
    "PIPELINE_DISPLAY_NAME = f'dataflow-pipeline-{int(datetime.now().timestamp())}'\n",
    "PIPELINE_ROOT = os.path.join(BUCKET, 'pipeline_root/dataflow_example')\n",
    "\n",
    "aip.init(location=REGION, staging_bucket=BUCKET)"
   ]
  },
  {
   "cell_type": "markdown",
   "id": "e73a90dc-f403-46c2-be8e-a133a9e206ab",
   "metadata": {},
   "source": [
    "## Data Pipeline Script"
   ]
  },
  {
   "cell_type": "code",
   "execution_count": 3,
   "id": "d5a527ea-3fb8-49bd-afc0-5ebd4c94f3b4",
   "metadata": {},
   "outputs": [
    {
     "name": "stdout",
     "output_type": "stream",
     "text": [
      "Overwriting build/dataflow_pipeline.py\n"
     ]
    }
   ],
   "source": [
    "%%writefile build/dataflow_pipeline.py\n",
    "import argparse\n",
    "from datetime import datetime\n",
    "import logging\n",
    "import sys\n",
    "\n",
    "import apache_beam as beam\n",
    "from apache_beam.options.pipeline_options import PipelineOptions\n",
    "\n",
    "table_schema = {\n",
    "    'fields': [\n",
    "        {\n",
    "            \"name\": \"TV\",\n",
    "            \"type\": \"FLOAT\",\n",
    "            \"mode\": \"REQUIRED\"\n",
    "        },\n",
    "        {\n",
    "            \"name\": \"Radio\",\n",
    "            \"type\": \"STRING\",\n",
    "            \"mode\": \"REQUIRED\"\n",
    "        },\n",
    "        {\n",
    "            \"name\": \"Newspaper\",\n",
    "            \"type\": \"FLOAT\",\n",
    "            \"mode\": \"REQUIRED\"\n",
    "        },\n",
    "        {\n",
    "            \"name\": \"Sales\",\n",
    "            \"type\": \"FLOAT\",\n",
    "            \"mode\": \"REQUIRED\"\n",
    "        },\n",
    "    ]}\n",
    "\n",
    "def parse_file(element):\n",
    "    import csv\n",
    "    for TV, radio, newspaper, sales in csv.reader([element], quotechar='\"', delimiter=',', quoting=csv.QUOTE_ALL, skipinitialspace=True):\n",
    "        return {'TV': TV, 'Radio': radio, 'Newspaper': newspaper, 'Sales': sales}\n",
    "\n",
    "    \n",
    "def run(argv=None):\n",
    "    parser = argparse.ArgumentParser()\n",
    "    parser.add_argument('--input',\n",
    "                        dest='input',\n",
    "                        help='Input file to process.')\n",
    "    known_args, pipeline_args = parser.parse_known_args(argv)\n",
    "    \n",
    "    options = PipelineOptions(\n",
    "        pipeline_args,\n",
    "        job_name=f'import-advertising-csv-pipeline-{int(datetime.now().timestamp())}',\n",
    "        save_main_session=True,\n",
    "    )\n",
    "\n",
    "    pipeline = beam.Pipeline(options=options)\n",
    "    (\n",
    "        pipeline\n",
    "        | 'Read CSV from GCS' >> beam.io.ReadFromText(known_args.input)\n",
    "        | 'Parse CSV file' >> beam.Map(parse_file)\n",
    "        | 'Write To BigQuery' >> beam.io.WriteToBigQuery(\n",
    "            'example_dataset.advertising_regression',\n",
    "            schema=table_schema,\n",
    "            write_disposition=beam.io.BigQueryDisposition.WRITE_TRUNCATE,\n",
    "            create_disposition=beam.io.BigQueryDisposition.CREATE_IF_NEEDED)\n",
    "    )\n",
    "    return pipeline.run()\n",
    "    \n",
    "if __name__ == '__main__':\n",
    "    logging.getLogger().setLevel(logging.INFO)\n",
    "    run()\n"
   ]
  },
  {
   "cell_type": "code",
   "execution_count": 4,
   "id": "b9980fe0-4b92-48ea-84f8-5a80802e8e58",
   "metadata": {},
   "outputs": [
    {
     "name": "stdout",
     "output_type": "stream",
     "text": [
      "Copying file://build/dataflow_pipeline.py [Content-Type=text/x-python]...\n",
      "/ [1 files][  1.9 KiB/  1.9 KiB]                                                \n",
      "Operation completed over 1 objects/1.9 KiB.                                      \n"
     ]
    }
   ],
   "source": [
    "!gsutil cp build/dataflow_pipeline.py \"$BUCKET\""
   ]
  },
  {
   "cell_type": "markdown",
   "id": "f79ffba3-f359-470b-9997-1a0da0536218",
   "metadata": {},
   "source": [
    "## Start the MLOps Pipeline with Dataflow Task on Vertex AI"
   ]
  },
  {
   "cell_type": "code",
   "execution_count": 5,
   "id": "6e8e9e09-6e2d-4997-8db6-0639af4fb4d6",
   "metadata": {},
   "outputs": [
    {
     "name": "stdout",
     "output_type": "stream",
     "text": [
      "INFO:google.cloud.aiplatform.pipeline_jobs:Creating PipelineJob\n"
     ]
    },
    {
     "name": "stderr",
     "output_type": "stream",
     "text": [
      "/opt/conda/lib/python3.7/site-packages/kfp/v2/compiler/compiler.py:1266: FutureWarning: APIs imported from the v1 namespace (e.g. kfp.dsl, kfp.components, etc) will not be supported by the v2 compiler since v2.0.0\n",
      "  category=FutureWarning,\n"
     ]
    },
    {
     "name": "stdout",
     "output_type": "stream",
     "text": [
      "INFO:google.cloud.aiplatform.pipeline_jobs:PipelineJob created. Resource name: projects/928871478446/locations/europe-west4/pipelineJobs/dataflow-pipeline-1642951363-20220123152245\n",
      "INFO:google.cloud.aiplatform.pipeline_jobs:To use this PipelineJob in another session:\n",
      "INFO:google.cloud.aiplatform.pipeline_jobs:pipeline_job = aiplatform.PipelineJob.get('projects/928871478446/locations/europe-west4/pipelineJobs/dataflow-pipeline-1642951363-20220123152245')\n",
      "INFO:google.cloud.aiplatform.pipeline_jobs:View Pipeline Job:\n",
      "https://console.cloud.google.com/vertex-ai/locations/europe-west4/pipelines/runs/dataflow-pipeline-1642951363-20220123152245?project=928871478446\n",
      "INFO:google.cloud.aiplatform.pipeline_jobs:PipelineJob projects/928871478446/locations/europe-west4/pipelineJobs/dataflow-pipeline-1642951363-20220123152245 current state:\n",
      "PipelineState.PIPELINE_STATE_RUNNING\n",
      "INFO:google.cloud.aiplatform.pipeline_jobs:PipelineJob projects/928871478446/locations/europe-west4/pipelineJobs/dataflow-pipeline-1642951363-20220123152245 current state:\n",
      "PipelineState.PIPELINE_STATE_RUNNING\n",
      "INFO:google.cloud.aiplatform.pipeline_jobs:PipelineJob projects/928871478446/locations/europe-west4/pipelineJobs/dataflow-pipeline-1642951363-20220123152245 current state:\n",
      "PipelineState.PIPELINE_STATE_RUNNING\n",
      "INFO:google.cloud.aiplatform.pipeline_jobs:PipelineJob projects/928871478446/locations/europe-west4/pipelineJobs/dataflow-pipeline-1642951363-20220123152245 current state:\n",
      "PipelineState.PIPELINE_STATE_RUNNING\n",
      "INFO:google.cloud.aiplatform.pipeline_jobs:PipelineJob projects/928871478446/locations/europe-west4/pipelineJobs/dataflow-pipeline-1642951363-20220123152245 current state:\n",
      "PipelineState.PIPELINE_STATE_RUNNING\n",
      "INFO:google.cloud.aiplatform.pipeline_jobs:PipelineJob projects/928871478446/locations/europe-west4/pipelineJobs/dataflow-pipeline-1642951363-20220123152245 current state:\n",
      "PipelineState.PIPELINE_STATE_RUNNING\n",
      "INFO:google.cloud.aiplatform.pipeline_jobs:PipelineJob run completed. Resource name: projects/928871478446/locations/europe-west4/pipelineJobs/dataflow-pipeline-1642951363-20220123152245\n"
     ]
    }
   ],
   "source": [
    "@dsl.pipeline(\n",
    "    name=PIPELINE_DISPLAY_NAME,\n",
    "    description=\"A simple pipeline with a dataflow job\",\n",
    "    pipeline_root=PIPELINE_ROOT,\n",
    ")\n",
    "def pipeline(project_id: str, location: str, dataflow_script: str):\n",
    "    \n",
    "    from google_cloud_pipeline_components.experimental.dataflow import DataflowPythonJobOp\n",
    "    from google_cloud_pipeline_components.experimental.wait_gcp_resources import WaitGcpResourcesOp\n",
    "    \n",
    "    dataflow_python_op = DataflowPythonJobOp(\n",
    "        project=project_id,\n",
    "        location=location,\n",
    "        python_module_path=dataflow_script,\n",
    "        temp_location = BUCKET,\n",
    "        args = ['--input', DATA_FILE],\n",
    "    )\n",
    "  \n",
    "    dataflow_wait_op =  WaitGcpResourcesOp(\n",
    "        gcp_resources = dataflow_python_op.outputs[\"gcp_resources\"]\n",
    "    )\n",
    "    \n",
    "    \n",
    "compiler.Compiler().compile(\n",
    "    pipeline_func=pipeline, \n",
    "    package_path=\"build/dataflow_pipeline.json\",\n",
    "    type_check=False\n",
    ")\n",
    "\n",
    "job = aip.PipelineJob(\n",
    "    display_name=PIPELINE_DISPLAY_NAME,\n",
    "    template_path=\"build/dataflow_pipeline.json\",\n",
    "    pipeline_root=PIPELINE_ROOT,\n",
    "    parameter_values={\n",
    "        'project_id': PROJECT, \n",
    "        'location': REGION, \n",
    "        'dataflow_script': os.path.join(BUCKET, 'dataflow_pipeline.py')\n",
    "    }\n",
    ")\n",
    "\n",
    "job.run()"
   ]
  },
  {
   "cell_type": "code",
   "execution_count": null,
   "id": "586976db-90e2-480a-ae20-afa346ed443e",
   "metadata": {},
   "outputs": [],
   "source": []
  }
 ],
 "metadata": {
  "environment": {
   "kernel": "python3",
   "name": "tf2-gpu.2-6.m87",
   "type": "gcloud",
   "uri": "gcr.io/deeplearning-platform-release/tf2-gpu.2-6:m87"
  },
  "kernelspec": {
   "display_name": "Python 3",
   "language": "python",
   "name": "python3"
  },
  "language_info": {
   "codemirror_mode": {
    "name": "ipython",
    "version": 3
   },
   "file_extension": ".py",
   "mimetype": "text/x-python",
   "name": "python",
   "nbconvert_exporter": "python",
   "pygments_lexer": "ipython3",
   "version": "3.7.12"
  }
 },
 "nbformat": 4,
 "nbformat_minor": 5
}
