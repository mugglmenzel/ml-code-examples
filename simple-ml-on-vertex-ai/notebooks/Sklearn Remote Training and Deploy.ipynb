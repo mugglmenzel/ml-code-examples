{
 "cells": [
  {
   "cell_type": "markdown",
   "id": "f0fcdee8-5e7d-4e4f-9f99-c53d99c1c26d",
   "metadata": {},
   "source": [
    "# Model Deployment on Vertex AI with Scikit-Learn\n",
    "\n",
    "Contributors: michaelmenzel@google.com"
   ]
  },
  {
   "cell_type": "code",
   "execution_count": 9,
   "id": "87866932-cab5-4e00-a35c-fa2dd78956e7",
   "metadata": {},
   "outputs": [],
   "source": [
    "!pip install -q --user --no-warn-conflicts google-cloud-aiplatform"
   ]
  },
  {
   "cell_type": "code",
   "execution_count": 10,
   "id": "2b45558e-10ed-492c-8f4f-a8261239a396",
   "metadata": {},
   "outputs": [],
   "source": [
    "from google.cloud import aiplatform\n",
    "\n",
    "aiplatform.init(location='europe-west4')"
   ]
  },
  {
   "cell_type": "markdown",
   "id": "7f62891b-0aef-4c9d-a9c5-1e0f15321c4e",
   "metadata": {},
   "source": [
    "## Model Training"
   ]
  },
  {
   "cell_type": "code",
   "execution_count": 11,
   "id": "10420b6f-246e-4d26-a7ac-a167df3083b2",
   "metadata": {},
   "outputs": [
    {
     "name": "stdout",
     "output_type": "stream",
     "text": [
      "Overwriting sklearn_train.py\n"
     ]
    }
   ],
   "source": [
    "%%writefile sklearn_train.py\n",
    "\n",
    "from google.cloud import storage\n",
    "\n",
    "import numpy as np\n",
    "\n",
    "from sklearn import datasets, svm, metrics\n",
    "from sklearn.model_selection import train_test_split\n",
    "\n",
    "import argparse\n",
    "import joblib\n",
    "import os\n",
    "\n",
    "parser = argparse.ArgumentParser()\n",
    "parser.add_argument('--gamma', dest='gamma',\n",
    "                    default=0.001, type=float,\n",
    "                    help='Gamma param for support vector classifier.')\n",
    "args = parser.parse_args()\n",
    "\n",
    "iris = datasets.load_iris()\n",
    "X = iris.data\n",
    "Y = iris.target\n",
    "\n",
    "X_train, X_test, y_train, y_test = train_test_split(\n",
    "    X, Y, test_size=0.1, random_state=2184)\n",
    "clf = svm.SVC(gamma=args.gamma)\n",
    "clf.fit(X_train, y_train)\n",
    "\n",
    "predicted = clf.predict(X_test)\n",
    "print(metrics.classification_report(y_test, predicted, target_names=iris.target_names))\n",
    "\n",
    "model_file = 'model.joblib'\n",
    "gcs_path = os.getenv(\"AIP_MODEL_DIR\")\n",
    "\n",
    "joblib.dump(clf, model_file)\n",
    "\n",
    "blob = storage.blob.Blob.from_string(os.path.join(gcs_path, model_file), client=storage.Client())\n",
    "blob.upload_from_filename('model.joblib')"
   ]
  },
  {
   "cell_type": "code",
   "execution_count": 12,
   "id": "4917a6da-820b-47bf-af77-b59b1185e5f7",
   "metadata": {},
   "outputs": [
    {
     "name": "stdout",
     "output_type": "stream",
     "text": [
      "INFO:google.cloud.aiplatform.utils.source_utils:Training script copied to:\n",
      "gs://sandbox-michael-menzel-training-europe-west4/sklearn-iris-classifier-training/aiplatform-2021-10-21-12:30:42.609-aiplatform_custom_trainer_script-0.1.tar.gz.\n",
      "INFO:google.cloud.aiplatform.training_jobs:Training Output directory:\n",
      "gs://sandbox-michael-menzel-training-europe-west4/sklearn-iris-classifier-training/aiplatform-custom-training-2021-10-21-12:30:42.717 \n",
      "INFO:google.cloud.aiplatform.training_jobs:View Training:\n",
      "https://console.cloud.google.com/ai/platform/locations/europe-west4/training/914041608356233216?project=928871478446\n",
      "INFO:google.cloud.aiplatform.training_jobs:CustomTrainingJob projects/928871478446/locations/europe-west4/trainingPipelines/914041608356233216 current state:\n",
      "PipelineState.PIPELINE_STATE_RUNNING\n",
      "INFO:google.cloud.aiplatform.training_jobs:View backing custom job:\n",
      "https://console.cloud.google.com/ai/platform/locations/europe-west4/training/5767796106754785280?project=928871478446\n",
      "INFO:google.cloud.aiplatform.training_jobs:CustomTrainingJob projects/928871478446/locations/europe-west4/trainingPipelines/914041608356233216 current state:\n",
      "PipelineState.PIPELINE_STATE_RUNNING\n",
      "INFO:google.cloud.aiplatform.training_jobs:CustomTrainingJob projects/928871478446/locations/europe-west4/trainingPipelines/914041608356233216 current state:\n",
      "PipelineState.PIPELINE_STATE_RUNNING\n",
      "INFO:google.cloud.aiplatform.training_jobs:CustomTrainingJob projects/928871478446/locations/europe-west4/trainingPipelines/914041608356233216 current state:\n",
      "PipelineState.PIPELINE_STATE_RUNNING\n",
      "INFO:google.cloud.aiplatform.training_jobs:CustomTrainingJob projects/928871478446/locations/europe-west4/trainingPipelines/914041608356233216 current state:\n",
      "PipelineState.PIPELINE_STATE_RUNNING\n",
      "INFO:google.cloud.aiplatform.training_jobs:CustomTrainingJob run completed. Resource name: projects/928871478446/locations/europe-west4/trainingPipelines/914041608356233216\n",
      "INFO:google.cloud.aiplatform.training_jobs:Model available at projects/928871478446/locations/europe-west4/models/2147390189511639040\n"
     ]
    }
   ],
   "source": [
    "vertex_ai_job = aiplatform.CustomTrainingJob(\n",
    "    display_name='sklearn-iris-classifier-training',\n",
    "    script_path='sklearn_train.py',\n",
    "    container_uri='europe-docker.pkg.dev/vertex-ai/training/scikit-learn-cpu.0-23:latest',\n",
    "    staging_bucket='gs://sandbox-michael-menzel-training-europe-west4/sklearn-iris-classifier-training/',\n",
    "    requirements=[],\n",
    "    model_serving_container_image_uri='europe-docker.pkg.dev/vertex-ai/prediction/sklearn-cpu.0-24:latest',\n",
    ")\n",
    "\n",
    "vertex_ai_model = vertex_ai_job.run(\n",
    "    replica_count=1, \n",
    "    args=[\n",
    "        f\"--gamma=0.001\",\n",
    "    ]\n",
    ")"
   ]
  },
  {
   "cell_type": "code",
   "execution_count": 13,
   "id": "7e21d872-0ff6-4a2a-bf12-0cc4379a36e0",
   "metadata": {},
   "outputs": [
    {
     "name": "stdout",
     "output_type": "stream",
     "text": [
      "INFO:google.cloud.aiplatform.models:Creating Endpoint\n",
      "INFO:google.cloud.aiplatform.models:Create Endpoint backing LRO: projects/928871478446/locations/europe-west4/endpoints/8903704424241692672/operations/501352013498417152\n",
      "INFO:google.cloud.aiplatform.models:Endpoint created. Resource name: projects/928871478446/locations/europe-west4/endpoints/8903704424241692672\n",
      "INFO:google.cloud.aiplatform.models:To use this Endpoint in another session:\n",
      "INFO:google.cloud.aiplatform.models:endpoint = aiplatform.Endpoint('projects/928871478446/locations/europe-west4/endpoints/8903704424241692672')\n",
      "INFO:google.cloud.aiplatform.models:Deploying model to Endpoint : projects/928871478446/locations/europe-west4/endpoints/8903704424241692672\n",
      "INFO:google.cloud.aiplatform.models:Deploy Endpoint model backing LRO: projects/928871478446/locations/europe-west4/endpoints/8903704424241692672/operations/5462067003047018496\n",
      "INFO:google.cloud.aiplatform.models:Endpoint model deployed. Resource name: projects/928871478446/locations/europe-west4/endpoints/8903704424241692672\n"
     ]
    }
   ],
   "source": [
    "vertex_ai_endpoint = vertex_ai_model.deploy(\n",
    "    deployed_model_display_name='sklearn-iris-classifier-model',\n",
    "    traffic_split={\"0\": 100},\n",
    "    machine_type=\"n1-standard-4\",\n",
    "    min_replica_count=1,\n",
    "    max_replica_count=1,\n",
    ")"
   ]
  },
  {
   "cell_type": "code",
   "execution_count": 15,
   "id": "c08261f7-aaee-4ad4-9873-46ea74cc3352",
   "metadata": {},
   "outputs": [
    {
     "name": "stdout",
     "output_type": "stream",
     "text": [
      "              precision    recall  f1-score   support\n",
      "\n",
      "      setosa       0.43      1.00      0.60         3\n",
      "  versicolor       0.50      0.33      0.40         6\n",
      "   virginica       1.00      0.67      0.80         6\n",
      "\n",
      "    accuracy                           0.60        15\n",
      "   macro avg       0.64      0.67      0.60        15\n",
      "weighted avg       0.69      0.60      0.60        15\n",
      "\n"
     ]
    }
   ],
   "source": [
    "from sklearn import datasets, metrics\n",
    "from sklearn.model_selection import train_test_split\n",
    "\n",
    "iris = datasets.load_iris()\n",
    "X_train, X_test, y_train, y_test = train_test_split(\n",
    "    iris.data, iris.target, test_size=0.1, random_state=2184)\n",
    "\n",
    "vertex_ai_predicted = vertex_ai_endpoint.predict(X_test.tolist())\n",
    "print(metrics.classification_report(y_test, vertex_ai_predicted.predictions, target_names=iris.target_names))"
   ]
  },
  {
   "cell_type": "code",
   "execution_count": 16,
   "id": "58cfb7e9-13ed-46e5-9d33-3127757f5900",
   "metadata": {},
   "outputs": [
    {
     "data": {
      "text/plain": [
       "Prediction(predictions=[0.0, 2.0, 1.0, 0.0, 1.0, 2.0, 0.0, 1.0, 0.0, 2.0, 1.0, 0.0, 0.0, 2.0, 0.0], deployed_model_id='2118292713794174976', explanations=None)"
      ]
     },
     "execution_count": 16,
     "metadata": {},
     "output_type": "execute_result"
    }
   ],
   "source": [
    "vertex_ai_predicted"
   ]
  },
  {
   "cell_type": "markdown",
   "id": "b9e80be4-261a-45bb-bc7a-a73561b4dd4b",
   "metadata": {
    "tags": []
   },
   "source": [
    "## Cleanup"
   ]
  },
  {
   "cell_type": "code",
   "execution_count": 7,
   "id": "301ea5db-5e73-4e51-aefd-6cdbadb9e863",
   "metadata": {},
   "outputs": [
    {
     "name": "stdout",
     "output_type": "stream",
     "text": [
      "INFO:google.cloud.aiplatform.models:Undeploying Endpoint model: projects/928871478446/locations/europe-west4/endpoints/776958896651632640\n",
      "INFO:google.cloud.aiplatform.models:Undeploy Endpoint model backing LRO: projects/928871478446/locations/europe-west4/endpoints/776958896651632640/operations/2176691074880241664\n",
      "INFO:google.cloud.aiplatform.models:Endpoint model undeployed. Resource name: projects/928871478446/locations/europe-west4/endpoints/776958896651632640\n",
      "INFO:google.cloud.aiplatform.base:Deleting Endpoint : projects/928871478446/locations/europe-west4/endpoints/776958896651632640\n",
      "INFO:google.cloud.aiplatform.base:Delete Endpoint  backing LRO: projects/928871478446/locations/europe-west4/operations/6788377093307629568\n",
      "INFO:google.cloud.aiplatform.base:Endpoint deleted. . Resource name: projects/928871478446/locations/europe-west4/endpoints/776958896651632640\n"
     ]
    }
   ],
   "source": [
    "vertex_ai_endpoint.delete(force=True)"
   ]
  },
  {
   "cell_type": "code",
   "execution_count": 8,
   "id": "9728f7d6-ce01-422d-ac8b-37476da6b932",
   "metadata": {},
   "outputs": [
    {
     "name": "stdout",
     "output_type": "stream",
     "text": [
      "INFO:google.cloud.aiplatform.base:Deleting Model : projects/928871478446/locations/europe-west4/models/4696427578603339776\n",
      "INFO:google.cloud.aiplatform.base:Delete Model  backing LRO: projects/928871478446/locations/europe-west4/operations/6927988681756114944\n",
      "INFO:google.cloud.aiplatform.base:Model deleted. . Resource name: projects/928871478446/locations/europe-west4/models/4696427578603339776\n"
     ]
    }
   ],
   "source": [
    "vertex_ai_model.delete()"
   ]
  },
  {
   "cell_type": "code",
   "execution_count": null,
   "id": "f72037aa-e84a-4ab2-a513-d1e436ba759d",
   "metadata": {},
   "outputs": [],
   "source": []
  }
 ],
 "metadata": {
  "environment": {
   "kernel": "python3",
   "name": "tf2-gpu.2-6.m84",
   "type": "gcloud",
   "uri": "gcr.io/deeplearning-platform-release/tf2-gpu.2-6:m84"
  },
  "kernelspec": {
   "display_name": "Python 3",
   "language": "python",
   "name": "python3"
  },
  "language_info": {
   "codemirror_mode": {
    "name": "ipython",
    "version": 3
   },
   "file_extension": ".py",
   "mimetype": "text/x-python",
   "name": "python",
   "nbconvert_exporter": "python",
   "pygments_lexer": "ipython3",
   "version": "3.7.12"
  }
 },
 "nbformat": 4,
 "nbformat_minor": 5
}
