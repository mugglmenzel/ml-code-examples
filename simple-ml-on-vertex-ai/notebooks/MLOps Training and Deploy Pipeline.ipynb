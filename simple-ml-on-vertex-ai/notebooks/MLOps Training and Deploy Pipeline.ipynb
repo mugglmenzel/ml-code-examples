{
 "cells": [
  {
   "cell_type": "markdown",
   "id": "875f15ee-9521-4c40-b640-6e98fab402a8",
   "metadata": {},
   "source": [
    "# ML Ops Pipeline Example"
   ]
  },
  {
   "cell_type": "code",
   "execution_count": 1,
   "id": "1af354f9-61df-4b65-81cc-6efa34dcfb76",
   "metadata": {},
   "outputs": [],
   "source": [
    "!pip install --user --quiet google-cloud-pipeline-components"
   ]
  },
  {
   "cell_type": "code",
   "execution_count": 2,
   "id": "074f4152-931c-4afe-8b98-ab8979118775",
   "metadata": {},
   "outputs": [],
   "source": [
    "from datetime import datetime\n",
    "import os\n",
    "\n",
    "from google.cloud import aiplatform as aip\n",
    "\n",
    "from typing import NamedTuple\n",
    "\n",
    "from kfp.v2 import dsl\n",
    "from kfp.v2 import compiler\n",
    "\n",
    "from google_cloud_pipeline_components import aiplatform as gcc_aip\n",
    "from google_cloud_pipeline_components.types import artifact_types"
   ]
  },
  {
   "cell_type": "code",
   "execution_count": 3,
   "id": "a833c818-dc9e-4be9-a2be-d1e523520690",
   "metadata": {},
   "outputs": [],
   "source": [
    "PROJECT = 'sandbox-michael-menzel'\n",
    "REGION = 'europe-west4'\n",
    "BUCKET = 'gs://sandbox-michael-menzel-training-europe-west4/staging'\n",
    "\n",
    "DATA_BUCKET = 'gs://sandbox-michael-menzel-data-europe-west4/tf-iris-classifier-data'\n",
    "DATA_TEST = os.path.join(DATA_BUCKET, 'test.csv')\n",
    "TRAINING_BUCKET = 'gs://sandbox-michael-menzel-training-europe-west4/tf-iris-classifier-training'\n",
    "TRAINING_SCRIPT = os.path.join(TRAINING_BUCKET, 'tf_train.py')\n",
    "\n",
    "PIPELINE_DISPLAY_NAME = f'training-pipeline-{int(datetime.now().timestamp())}'\n",
    "PIPELINE_ROOT = os.path.join(BUCKET, 'pipeline_root/training_example')\n",
    "\n",
    "aip.init(location=REGION, staging_bucket=BUCKET)"
   ]
  },
  {
   "cell_type": "code",
   "execution_count": 4,
   "id": "641de3a8-8e13-48a9-8d9e-da587c95dad5",
   "metadata": {},
   "outputs": [
    {
     "name": "stdout",
     "output_type": "stream",
     "text": [
      "Writing build/tf_train.py\n"
     ]
    }
   ],
   "source": [
    "%%writefile build/tf_train.py\n",
    "\n",
    "import numpy as np\n",
    "\n",
    "import tensorflow as tf\n",
    "import tensorflow_datasets as tfds\n",
    "\n",
    "import argparse\n",
    "import joblib\n",
    "import os\n",
    "\n",
    "parser = argparse.ArgumentParser()\n",
    "parser.add_argument('--epochs', dest='epochs',\n",
    "                    default=20, type=int,\n",
    "                    help='Epocsh to run the model fit function.')\n",
    "args = parser.parse_args()\n",
    "\n",
    "iris_data, iris_info = tfds.load('iris', split='train', with_info=True)\n",
    "\n",
    "iris_ds = iris_data.map(lambda x: (x['features'], tf.one_hot(x['label'], iris_info.features['label'].num_classes))).batch(5)\n",
    "iris_train = iris_ds.skip(15)\n",
    "iris_test = iris_ds.take(15)\n",
    "\n",
    "model = tf.keras.Sequential([\n",
    "    tf.keras.layers.Dense(8, input_shape=iris_info.features['features'].shape),\n",
    "    tf.keras.layers.Dense(iris_info.features['label'].num_classes, activation='softmax')  \n",
    "])\n",
    "model.summary()\n",
    "\n",
    "model.compile(optimizer='adam', loss='categorical_crossentropy', \n",
    "              metrics=['categorical_accuracy', tf.keras.metrics.Precision(), tf.keras.metrics.Recall()])\n",
    "model.fit(iris_train, epochs=args.epochs, verbose=2)\n",
    "\n",
    "model.evaluate(iris_test, verbose=2)\n",
    "model.save(os.getenv(\"AIP_MODEL_DIR\"))"
   ]
  },
  {
   "cell_type": "code",
   "execution_count": 5,
   "id": "6563984c-038e-42d8-9d55-339df8cfca3a",
   "metadata": {},
   "outputs": [
    {
     "name": "stdout",
     "output_type": "stream",
     "text": [
      "Copying training script to gs://sandbox-michael-menzel-training-europe-west4/tf-iris-classifier-training/tf_train.py ...\n",
      "Copying file://build/tf_train.py [Content-Type=text/x-python]...\n",
      "/ [1 files][  1.1 KiB/  1.1 KiB]                                                \n",
      "Operation completed over 1 objects/1.1 KiB.                                      \n"
     ]
    }
   ],
   "source": [
    "!echo \"Copying training script to $TRAINING_SCRIPT ...\"\n",
    "!gsutil cp build/tf_train.py \"$TRAINING_SCRIPT\""
   ]
  },
  {
   "cell_type": "code",
   "execution_count": 6,
   "id": "51a7cb11-91e4-4b9d-a30e-ddc60c6d40a7",
   "metadata": {},
   "outputs": [
    {
     "name": "stdout",
     "output_type": "stream",
     "text": [
      "INFO:absl:Load dataset info from /home/jupyter/tensorflow_datasets/iris/2.0.0\n",
      "INFO:absl:Reusing dataset iris (/home/jupyter/tensorflow_datasets/iris/2.0.0)\n",
      "INFO:absl:Constructing tf.data.Dataset iris for split train, from /home/jupyter/tensorflow_datasets/iris/2.0.0\n"
     ]
    }
   ],
   "source": [
    "import tensorflow as tf\n",
    "import tensorflow_datasets as tfds\n",
    "iris_data, iris_info = tfds.load('iris', split='train', with_info=True)\n",
    "with tf.io.gfile.GFile(DATA_TEST, 'w') as testfile:\n",
    "    for line in [','.join(tf.squeeze(x['features']).numpy().astype(str)) for x in iris_data]:\n",
    "        testfile.write(line)"
   ]
  },
  {
   "cell_type": "code",
   "execution_count": 7,
   "id": "e8183e58-7945-4483-af20-50e16b4a7c0e",
   "metadata": {},
   "outputs": [],
   "source": [
    "@dsl.component  \n",
    "def extract_path(artifact: dsl.Input[dsl.Artifact]) -> str:\n",
    "    print(artifact)\n",
    "    return artifact.path\n",
    "\n",
    "@dsl.component(packages_to_install=['google-cloud-aiplatform', 'google-cloud-pipeline-components'])\n",
    "def train_model(project_id: str, location: str, display_name: str, staging_bucket: str, training_script: dsl.Input[dsl.Artifact], model: dsl.Output[dsl.Model]):\n",
    "    import json\n",
    "    \n",
    "    from google.cloud import aiplatform as aip\n",
    "    from google_cloud_pipeline_components.types import artifact_types\n",
    "    \n",
    "    aip.init(location=location, project=project_id)\n",
    "    \n",
    "    vertex_ai_job = aip.CustomTrainingJob(\n",
    "        display_name=display_name,\n",
    "        script_path=training_script.path,\n",
    "        container_uri='europe-docker.pkg.dev/vertex-ai/training/tf-cpu.2-6:latest',\n",
    "        staging_bucket=staging_bucket,\n",
    "        requirements=['tensorflow-datasets'],\n",
    "        model_serving_container_image_uri='europe-docker.pkg.dev/vertex-ai/prediction/tf2-cpu.2-6:latest',\n",
    "    )\n",
    "\n",
    "    vertex_ai_model = vertex_ai_job.run(\n",
    "        replica_count=1, \n",
    "        machine_type='e2-standard-8',\n",
    "        args=[\n",
    "            f\"--epochs=100\",\n",
    "        ]\n",
    "    )\n",
    "    \n",
    "    model.uri = f'https://{location}-aiplatform.googleapis.com/v1/' + vertex_ai_model.resource_name\n",
    "    model.metadata = {'resourceName': vertex_ai_model.resource_name}\n",
    "    \n",
    "@dsl.component(base_image='tensorflow/tensorflow:2.7.0', packages_to_install=['tensorflow-datasets', 'google-cloud-aiplatform'])\n",
    "def online_evaluation(vertexEndpoint: dsl.Input[dsl.Artifact], model: dsl.Output[dsl.Model]):\n",
    "    import tensorflow as tf\n",
    "    import tensorflow_datasets as tfds\n",
    "\n",
    "    from google.cloud import aiplatform as aip\n",
    "    \n",
    "    vertex_ai_endpoint = aip.Endpoint(vertexEndpoint.metadata['resourceName'])\n",
    "    \n",
    "    iris_data, iris_info = tfds.load('iris', split='train', with_info=True)\n",
    "    iris_ds = iris_data.map(lambda x: (x['features'], tf.one_hot(x['label'], iris_info.features['label'].num_classes))).batch(5)\n",
    "    iris_test = iris_ds.take(15)\n",
    "\n",
    "    precision = tf.keras.metrics.Precision()\n",
    "    recall = tf.keras.metrics.Recall()\n",
    "\n",
    "    for X_test, y_test in iris_test.as_numpy_iterator():\n",
    "        vertex_ai_predicted = vertex_ai_endpoint.predict(X_test.tolist())\n",
    "        precision.update_state(y_test, vertex_ai_predicted.predictions)\n",
    "        recall.update_state(y_test, vertex_ai_predicted.predictions)\n",
    "\n",
    "    print(f'precision: {precision.result()}')\n",
    "    model.metadata['precision'] = float(precision.result().numpy())\n",
    "    print(f'recall: {recall.result()}')\n",
    "    model.metadata['recall'] = float(recall.result().numpy())"
   ]
  },
  {
   "cell_type": "code",
   "execution_count": 8,
   "id": "58cb1e57-df64-4759-854e-f3891de484e5",
   "metadata": {},
   "outputs": [],
   "source": [
    "from google_cloud_pipeline_components.aiplatform import utils\n",
    "\n",
    "CustomTrainingJobRunOp = utils.convert_method_to_component(\n",
    "    aip.CustomTrainingJob,\n",
    "    aip.CustomTrainingJob.run,\n",
    ")"
   ]
  },
  {
   "cell_type": "code",
   "execution_count": 9,
   "id": "be748713-d59c-4e1a-831c-0ed5097ffd10",
   "metadata": {},
   "outputs": [
    {
     "name": "stdout",
     "output_type": "stream",
     "text": [
      "type name Model is different from expected: google.VertexModel\n",
      "type name Model is different from expected: google.VertexModel\n",
      "INFO:google.cloud.aiplatform.pipeline_jobs:Creating PipelineJob\n"
     ]
    },
    {
     "name": "stderr",
     "output_type": "stream",
     "text": [
      "/opt/conda/lib/python3.7/site-packages/kfp/v2/compiler/compiler.py:1266: FutureWarning: APIs imported from the v1 namespace (e.g. kfp.dsl, kfp.components, etc) will not be supported by the v2 compiler since v2.0.0\n",
      "  category=FutureWarning,\n",
      "/opt/conda/lib/python3.7/site-packages/kfp/dsl/types.py:164: InconsistentTypeWarning: Incompatible argument passed to the input \"model\" of component \"model_deploy\": Argument type \"Model\" is incompatible with the input type \"google.VertexModel\"\n",
      "  warnings.warn(InconsistentTypeWarning(error_text))\n"
     ]
    },
    {
     "name": "stdout",
     "output_type": "stream",
     "text": [
      "INFO:google.cloud.aiplatform.pipeline_jobs:PipelineJob created. Resource name: projects/928871478446/locations/europe-west4/pipelineJobs/training-pipeline-1642950977-20220123151621\n",
      "INFO:google.cloud.aiplatform.pipeline_jobs:To use this PipelineJob in another session:\n",
      "INFO:google.cloud.aiplatform.pipeline_jobs:pipeline_job = aiplatform.PipelineJob.get('projects/928871478446/locations/europe-west4/pipelineJobs/training-pipeline-1642950977-20220123151621')\n",
      "INFO:google.cloud.aiplatform.pipeline_jobs:View Pipeline Job:\n",
      "https://console.cloud.google.com/vertex-ai/locations/europe-west4/pipelines/runs/training-pipeline-1642950977-20220123151621?project=928871478446\n",
      "INFO:google.cloud.aiplatform.pipeline_jobs:PipelineJob projects/928871478446/locations/europe-west4/pipelineJobs/training-pipeline-1642950977-20220123151621 current state:\n",
      "PipelineState.PIPELINE_STATE_RUNNING\n",
      "INFO:google.cloud.aiplatform.pipeline_jobs:PipelineJob projects/928871478446/locations/europe-west4/pipelineJobs/training-pipeline-1642950977-20220123151621 current state:\n",
      "PipelineState.PIPELINE_STATE_RUNNING\n",
      "INFO:google.cloud.aiplatform.pipeline_jobs:PipelineJob projects/928871478446/locations/europe-west4/pipelineJobs/training-pipeline-1642950977-20220123151621 current state:\n",
      "PipelineState.PIPELINE_STATE_RUNNING\n",
      "INFO:google.cloud.aiplatform.pipeline_jobs:PipelineJob projects/928871478446/locations/europe-west4/pipelineJobs/training-pipeline-1642950977-20220123151621 current state:\n",
      "PipelineState.PIPELINE_STATE_RUNNING\n",
      "INFO:google.cloud.aiplatform.pipeline_jobs:PipelineJob projects/928871478446/locations/europe-west4/pipelineJobs/training-pipeline-1642950977-20220123151621 current state:\n",
      "PipelineState.PIPELINE_STATE_RUNNING\n",
      "INFO:google.cloud.aiplatform.pipeline_jobs:PipelineJob projects/928871478446/locations/europe-west4/pipelineJobs/training-pipeline-1642950977-20220123151621 current state:\n",
      "PipelineState.PIPELINE_STATE_RUNNING\n",
      "INFO:google.cloud.aiplatform.pipeline_jobs:PipelineJob projects/928871478446/locations/europe-west4/pipelineJobs/training-pipeline-1642950977-20220123151621 current state:\n",
      "PipelineState.PIPELINE_STATE_RUNNING\n",
      "INFO:google.cloud.aiplatform.pipeline_jobs:PipelineJob projects/928871478446/locations/europe-west4/pipelineJobs/training-pipeline-1642950977-20220123151621 current state:\n",
      "PipelineState.PIPELINE_STATE_RUNNING\n",
      "INFO:google.cloud.aiplatform.pipeline_jobs:PipelineJob run completed. Resource name: projects/928871478446/locations/europe-west4/pipelineJobs/training-pipeline-1642950977-20220123151621\n"
     ]
    }
   ],
   "source": [
    "@dsl.pipeline(\n",
    "    name=PIPELINE_DISPLAY_NAME,\n",
    "    description=\"A simple model training pipeline\",\n",
    "    pipeline_root=PIPELINE_ROOT,\n",
    ")\n",
    "def pipeline(project_id: str, location: str, training_script: str):\n",
    "    from google_cloud_pipeline_components.types import artifact_types\n",
    "    \n",
    "    training_script_import = dsl.importer(\n",
    "        artifact_uri=training_script,\n",
    "        artifact_class=dsl.Artifact,\n",
    "        reimport=True)\n",
    "\n",
    "    train_model_fct_op = train_model(project_id, location, \n",
    "                                     f'{PIPELINE_DISPLAY_NAME}-tf-iris-classifier-training',\n",
    "                                     TRAINING_BUCKET,\n",
    "                                     training_script_import.output)\n",
    "    \n",
    "    training_script_path = extract_path(training_script_import.output)\n",
    "        \n",
    "    train_model_yaml_op = CustomTrainingJobRunOp(\n",
    "        project=project_id,\n",
    "        location=location,\n",
    "        display_name=f'{PIPELINE_DISPLAY_NAME}-tf-iris-classifier-training',\n",
    "        script_path=training_script_path.output,\n",
    "        container_uri='europe-docker.pkg.dev/vertex-ai/training/tf-cpu.2-6:latest',\n",
    "        staging_bucket='gs://sandbox-michael-menzel-training-europe-west4/tf-iris-classifier-training/',\n",
    "        requirements=['tensorflow-datasets'],\n",
    "        model_serving_container_image_uri='europe-docker.pkg.dev/vertex-ai/prediction/tf2-cpu.2-6:latest',\n",
    "        replica_count=1, \n",
    "        machine_type='e2-standard-8',\n",
    "        args=[f\"--epochs=100\"])\n",
    "    \n",
    "    create_endpoint_op = gcc_aip.EndpointCreateOp(\n",
    "        project=project_id,\n",
    "        location=REGION,\n",
    "        display_name = f'{PIPELINE_DISPLAY_NAME}-ep',\n",
    "    )\n",
    "\n",
    "    model_deploy_fct_op = gcc_aip.ModelDeployOp(\n",
    "        model=train_model_fct_op.output,\n",
    "        endpoint=create_endpoint_op.outputs['endpoint'],\n",
    "        traffic_split={\"0\": 100},\n",
    "        dedicated_resources_machine_type='n1-standard-8',\n",
    "        dedicated_resources_min_replica_count=1,\n",
    "        dedicated_resources_max_replica_count=1,\n",
    "    )\n",
    "    \n",
    "    model_deploy_yaml_op = gcc_aip.ModelDeployOp(\n",
    "        model=train_model_yaml_op.output,\n",
    "        endpoint=create_endpoint_op.outputs['endpoint'],\n",
    "        dedicated_resources_machine_type='n1-standard-8',\n",
    "        dedicated_resources_min_replica_count=1,\n",
    "        dedicated_resources_max_replica_count=1,\n",
    "    )\n",
    "    \n",
    "    online_evaluation_op = online_evaluation(create_endpoint_op.outputs['endpoint']).after(model_deploy_fct_op)\n",
    "    \n",
    "compiler.Compiler().compile(\n",
    "    pipeline_func=pipeline, \n",
    "    package_path=\"build/training_pipeline.json\",\n",
    "    type_check=False\n",
    ")\n",
    "\n",
    "job = aip.PipelineJob(\n",
    "    display_name=PIPELINE_DISPLAY_NAME,\n",
    "    template_path=\"build/training_pipeline.json\",\n",
    "    pipeline_root=PIPELINE_ROOT,\n",
    "    parameter_values={\n",
    "        'project_id': PROJECT, \n",
    "        'location': REGION, \n",
    "        'training_script': TRAINING_SCRIPT\n",
    "    }\n",
    ")\n",
    "\n",
    "job.run()"
   ]
  },
  {
   "cell_type": "code",
   "execution_count": null,
   "id": "bd09cdc4-f7cb-454a-bb47-bd85088ec075",
   "metadata": {},
   "outputs": [],
   "source": []
  }
 ],
 "metadata": {
  "environment": {
   "kernel": "python3",
   "name": "tf2-gpu.2-6.m87",
   "type": "gcloud",
   "uri": "gcr.io/deeplearning-platform-release/tf2-gpu.2-6:m87"
  },
  "kernelspec": {
   "display_name": "Python 3",
   "language": "python",
   "name": "python3"
  },
  "language_info": {
   "codemirror_mode": {
    "name": "ipython",
    "version": 3
   },
   "file_extension": ".py",
   "mimetype": "text/x-python",
   "name": "python",
   "nbconvert_exporter": "python",
   "pygments_lexer": "ipython3",
   "version": "3.7.12"
  }
 },
 "nbformat": 4,
 "nbformat_minor": 5
}
