{
 "cells": [
  {
   "cell_type": "markdown",
   "id": "fa3359aa-7d95-4a3b-a666-060a64fab005",
   "metadata": {},
   "source": [
    "# Feature Store Example"
   ]
  },
  {
   "cell_type": "code",
   "execution_count": 1,
   "id": "e280083b-0107-4414-a4a4-9004d7e9032d",
   "metadata": {},
   "outputs": [],
   "source": [
    "!pip install -q --user --no-warn-conflicts google-cloud-aiplatform"
   ]
  },
  {
   "cell_type": "code",
   "execution_count": 2,
   "id": "cc043a08-c869-4cba-a4c5-7c66a1544d4b",
   "metadata": {},
   "outputs": [],
   "source": [
    "from google.cloud.aiplatform_v1beta1 import FeaturestoreServiceClient\n",
    "from google.cloud.aiplatform_v1beta1 import FeaturestoreOnlineServingServiceClient\n",
    "\n",
    "from google.protobuf.duration_pb2 import Duration\n",
    "from google.cloud.aiplatform_v1beta1.types import feature as feature_pb2\n",
    "from google.cloud.aiplatform_v1beta1.types import entity_type as entity_type_pb2\n",
    "from google.cloud.aiplatform_v1beta1.types import featurestore as featurestore_pb2\n",
    "from google.cloud.aiplatform_v1beta1.types import feature_selector as feature_selector_pb2\n",
    "from google.cloud.aiplatform_v1beta1.types import featurestore_online_service as featurestore_online_service_pb2\n",
    "from google.cloud.aiplatform_v1beta1.types import featurestore_service as featurestore_service_pb2\n",
    "from google.cloud.aiplatform_v1beta1.types import featurestore_monitoring as featurestore_monitoring_pb2\n",
    "from google.cloud.aiplatform_v1beta1.types import featurestore_service as featurestore_service_pb2\n",
    "from google.cloud.aiplatform_v1beta1.types import io as io_pb2\n",
    "\n",
    "from google.cloud import aiplatform\n",
    "\n",
    "PROJECT_ID = 'sandbox-michael-menzel'\n",
    "REGION = 'europe-west4'\n",
    "\n",
    "aiplatform.init(location=REGION)"
   ]
  },
  {
   "cell_type": "code",
   "execution_count": 3,
   "id": "09d7c35a-c84e-425f-bdab-2866ecafcdfd",
   "metadata": {},
   "outputs": [],
   "source": [
    "admin_client = FeaturestoreServiceClient(client_options={\"api_endpoint\": f'{REGION}-aiplatform.googleapis.com'})\n",
    "data_client = FeaturestoreOnlineServingServiceClient(client_options={\"api_endpoint\": f'{REGION}-featurestore-aiplatform.googleapis.com'})"
   ]
  },
  {
   "cell_type": "code",
   "execution_count": 4,
   "id": "fdc16280-5bd7-455d-8d9b-f94e271c3d55",
   "metadata": {},
   "outputs": [
    {
     "data": {
      "text/plain": [
       "ListFeaturestoresPager<featurestores {\n",
       "  name: \"projects/928871478446/locations/europe-west4/featurestores/example_store\"\n",
       "  create_time {\n",
       "    seconds: 1622538985\n",
       "    nanos: 220623000\n",
       "  }\n",
       "  update_time {\n",
       "    seconds: 1629416900\n",
       "    nanos: 55809000\n",
       "  }\n",
       "  etag: \"AMEw9yMFlj_adB18r8c56Hw5LPurVKAnHnBPMV474nVTeqH9Qc3gm3Xe9FS00v0rbIY=\"\n",
       "  labels {\n",
       "    key: \"environment\"\n",
       "    value: \"testing\"\n",
       "  }\n",
       "  online_serving_config {\n",
       "    fixed_node_count: 2\n",
       "  }\n",
       "  state: STABLE\n",
       "}\n",
       ">"
      ]
     },
     "execution_count": 4,
     "metadata": {},
     "output_type": "execute_result"
    }
   ],
   "source": [
    "BASE_RESOURCE_PATH = admin_client.common_location_path(PROJECT_ID, REGION)\n",
    "admin_client.list_featurestores(parent=BASE_RESOURCE_PATH)"
   ]
  },
  {
   "cell_type": "code",
   "execution_count": 5,
   "id": "ace2bbbb-c6df-4ed9-bcbc-dd71c11a1625",
   "metadata": {},
   "outputs": [
    {
     "name": "stdout",
     "output_type": "stream",
     "text": [
      "Found featurestore projects/928871478446/locations/europe-west4/featurestores/movie_analysis: movie_analysis\n"
     ]
    }
   ],
   "source": [
    "FEATURESTORE_ID = f\"movie_analysis\"\n",
    "\n",
    "# Define feature store config\n",
    "feature_store_config = featurestore_pb2.Featurestore(\n",
    "    name=\"Google Movie Analysis\",\n",
    "    online_serving_config=featurestore_pb2.Featurestore.OnlineServingConfig(fixed_node_count=6), # The number of nodes for each cluster (BigTable)\n",
    "    labels={\"team\": \"ce_ml\", \n",
    "            \"loc\" : \"de-mhg\"},\n",
    ")\n",
    "\n",
    "# Create feature store request\n",
    "create_feature_store_request = featurestore_service_pb2.CreateFeaturestoreRequest(\n",
    "    parent=BASE_RESOURCE_PATH,\n",
    "    featurestore_id=FEATURESTORE_ID,\n",
    "    featurestore=feature_store_config\n",
    ")\n",
    "\n",
    "create_feature_store_job = admin_client.create_featurestore(\n",
    "    request=create_feature_store_request\n",
    ")\n",
    "\n",
    "# Run the job\n",
    "try:\n",
    "    result = create_feature_store_job.result()\n",
    "except RuntimeError as error:\n",
    "    print(error)\n",
    "else:\n",
    "    FEATURESTORE_RESOURCE_NAME = result.name\n",
    "    FEATURESTORE_ID = FEATURESTORE_RESOURCE_NAME.split(\"/\")[-1]\n",
    "    print(f\"Found featurestore {FEATURESTORE_RESOURCE_NAME}: {FEATURESTORE_ID}\")"
   ]
  },
  {
   "cell_type": "code",
   "execution_count": 6,
   "id": "30b6db9c-7d22-4c44-aab9-76d2af06b487",
   "metadata": {},
   "outputs": [
    {
     "data": {
      "text/plain": [
       "ListEntityTypesPager<>"
      ]
     },
     "execution_count": 6,
     "metadata": {},
     "output_type": "execute_result"
    }
   ],
   "source": [
    "admin_client.list_entity_types(parent=FEATURESTORE_RESOURCE_NAME)"
   ]
  },
  {
   "cell_type": "code",
   "execution_count": 7,
   "id": "c873f04a-499d-4702-b677-696a9e3e436a",
   "metadata": {},
   "outputs": [],
   "source": [
    "# Define a general monitoring policy\n",
    "monitoring_spec = featurestore_monitoring_pb2.FeaturestoreMonitoringConfig(\n",
    "    snapshot_analysis=featurestore_monitoring_pb2.FeaturestoreMonitoringConfig.SnapshotAnalysis(\n",
    "        monitoring_interval=Duration(seconds=300),  #just for demo, but the correct value should be 86400\n",
    "    ),\n",
    ")\n",
    "# Define the entity type\n",
    "entity_type = entity_type_pb2.EntityType(\n",
    "    description=\"Users Entity\",\n",
    "    monitoring_config=monitoring_spec\n",
    ")\n",
    "\n",
    "# Create the entity request\n",
    "entity_request = featurestore_service_pb2.CreateEntityTypeRequest(\n",
    "    parent=FEATURESTORE_RESOURCE_NAME,\n",
    "    entity_type_id=\"users\",\n",
    "    entity_type=entity_type\n",
    ")\n",
    "\n",
    "customer_entity_type_job = admin_client.create_entity_type(\n",
    "    request=entity_request\n",
    ").result()"
   ]
  },
  {
   "cell_type": "code",
   "execution_count": 8,
   "id": "6cde6f16-b8a6-464c-9c88-7876d51fbdc7",
   "metadata": {},
   "outputs": [
    {
     "data": {
      "text/plain": [
       "features {\n",
       "  name: \"projects/928871478446/locations/europe-west4/featurestores/movie_analysis/entityTypes/users/features/age\"\n",
       "}\n",
       "features {\n",
       "  name: \"projects/928871478446/locations/europe-west4/featurestores/movie_analysis/entityTypes/users/features/gender\"\n",
       "}\n",
       "features {\n",
       "  name: \"projects/928871478446/locations/europe-west4/featurestores/movie_analysis/entityTypes/users/features/liked_genres\"\n",
       "}"
      ]
     },
     "execution_count": 8,
     "metadata": {},
     "output_type": "execute_result"
    }
   ],
   "source": [
    "age_request = featurestore_service_pb2.CreateFeatureRequest(\n",
    "    feature=feature_pb2.Feature(\n",
    "        value_type=feature_pb2.Feature.ValueType.INT64,\n",
    "        description=\"User age\",\n",
    "    ),\n",
    "    feature_id=\"age\",\n",
    ")\n",
    "gender_request = featurestore_service_pb2.CreateFeatureRequest(\n",
    "    feature=feature_pb2.Feature(\n",
    "        value_type=feature_pb2.Feature.ValueType.STRING,\n",
    "        description=\"User gender\",\n",
    "        monitoring_config=featurestore_monitoring_pb2.FeaturestoreMonitoringConfig(\n",
    "            snapshot_analysis=featurestore_monitoring_pb2.FeaturestoreMonitoringConfig.SnapshotAnalysis(\n",
    "                disabled=True,\n",
    "            ),\n",
    "        ),\n",
    "    ),\n",
    "    feature_id=\"gender\",\n",
    ")\n",
    "liked_request = featurestore_service_pb2.CreateFeatureRequest(\n",
    "    feature=feature_pb2.Feature(\n",
    "        value_type=feature_pb2.Feature.ValueType.STRING_ARRAY,\n",
    "        description=\"An array of genres that this user liked\",\n",
    "    ),\n",
    "    feature_id=\"liked_genres\",\n",
    ")\n",
    "\n",
    "admin_client.batch_create_features(\n",
    "    parent=admin_client.entity_type_path(PROJECT_ID, REGION, FEATURESTORE_ID, \"users\"),\n",
    "    requests=[age_request, gender_request, liked_request],\n",
    ").result()"
   ]
  },
  {
   "cell_type": "code",
   "execution_count": 9,
   "id": "cba630c5-c7f4-4fc6-a1f6-c711a9bf5deb",
   "metadata": {},
   "outputs": [
    {
     "data": {
      "text/plain": [
       "imported_entity_count: 7\n",
       "imported_feature_value_count: 12"
      ]
     },
     "execution_count": 9,
     "metadata": {},
     "output_type": "execute_result"
    }
   ],
   "source": [
    "import_users_request = featurestore_service_pb2.ImportFeatureValuesRequest(\n",
    "    entity_type=admin_client.entity_type_path(\n",
    "        PROJECT_ID, REGION, FEATURESTORE_ID, \"users\"\n",
    "    ),\n",
    "    avro_source=io_pb2.AvroSource(\n",
    "        gcs_source=io_pb2.GcsSource(\n",
    "            uris=[\n",
    "                \"gs://sandbox-michael-menzel-data-europe-west4/vertex-ai/feature-store/datasets/users.avro\"\n",
    "            ]\n",
    "        )\n",
    "    ),\n",
    "    entity_id_field=\"user_id\",\n",
    "    feature_specs=[\n",
    "        featurestore_service_pb2.ImportFeatureValuesRequest.FeatureSpec(id=\"age\"),\n",
    "        featurestore_service_pb2.ImportFeatureValuesRequest.FeatureSpec(id=\"gender\"),\n",
    "        featurestore_service_pb2.ImportFeatureValuesRequest.FeatureSpec(id=\"liked_genres\"),\n",
    "    ],\n",
    "    feature_time_field=\"update_time\",\n",
    "    worker_count=10,\n",
    ")\n",
    "\n",
    "admin_client.import_feature_values(import_users_request).result()"
   ]
  },
  {
   "cell_type": "code",
   "execution_count": 10,
   "id": "89bb586e-c740-4aa7-8ea8-20b49bb83234",
   "metadata": {},
   "outputs": [
    {
     "data": {
      "text/plain": [
       "header {\n",
       "  entity_type: \"projects/928871478446/locations/europe-west4/featurestores/movie_analysis/entityTypes/users\"\n",
       "  feature_descriptors {\n",
       "    id: \"age\"\n",
       "  }\n",
       "  feature_descriptors {\n",
       "    id: \"gender\"\n",
       "  }\n",
       "  feature_descriptors {\n",
       "    id: \"liked_genres\"\n",
       "  }\n",
       "}\n",
       "entity_view {\n",
       "  entity_id: \"alice\"\n",
       "  data {\n",
       "    value {\n",
       "      int64_value: 55\n",
       "      metadata {\n",
       "        generate_time {\n",
       "          seconds: 1629493102\n",
       "          nanos: 261000000\n",
       "        }\n",
       "      }\n",
       "    }\n",
       "  }\n",
       "  data {\n",
       "    value {\n",
       "      string_value: \"Female\"\n",
       "      metadata {\n",
       "        generate_time {\n",
       "          seconds: 1629493102\n",
       "          nanos: 261000000\n",
       "        }\n",
       "      }\n",
       "    }\n",
       "  }\n",
       "  data {\n",
       "    value {\n",
       "      string_array_value {\n",
       "        values: \"Drama\"\n",
       "      }\n",
       "      metadata {\n",
       "        generate_time {\n",
       "          seconds: 1629493102\n",
       "          nanos: 261000000\n",
       "        }\n",
       "      }\n",
       "    }\n",
       "  }\n",
       "}"
      ]
     },
     "execution_count": 10,
     "metadata": {},
     "output_type": "execute_result"
    }
   ],
   "source": [
    "feature_selector = feature_selector_pb2.FeatureSelector(\n",
    "    id_matcher=feature_selector_pb2.IdMatcher(ids=[\"age\", \"gender\", \"liked_genres\"])\n",
    ")\n",
    "\n",
    "data_client.read_feature_values(\n",
    "    featurestore_online_service_pb2.ReadFeatureValuesRequest(\n",
    "        entity_type=admin_client.entity_type_path(\n",
    "            PROJECT_ID, REGION, FEATURESTORE_ID, \"users\"\n",
    "        ),\n",
    "        entity_id=\"alice\",\n",
    "        feature_selector=feature_selector,\n",
    "    )\n",
    ")"
   ]
  },
  {
   "cell_type": "code",
   "execution_count": 11,
   "id": "bf4da658-bed9-4557-95cb-308e97b5b2e4",
   "metadata": {},
   "outputs": [
    {
     "name": "stdout",
     "output_type": "stream",
     "text": [
      "header {\n",
      "  entity_type: \"projects/928871478446/locations/europe-west4/featurestores/movie_analysis/entityTypes/users\"\n",
      "  feature_descriptors {\n",
      "    id: \"age\"\n",
      "  }\n",
      "  feature_descriptors {\n",
      "    id: \"gender\"\n",
      "  }\n",
      "  feature_descriptors {\n",
      "    id: \"liked_genres\"\n",
      "  }\n",
      "}\n",
      "\n",
      "entity_view {\n",
      "  entity_id: \"alice\"\n",
      "  data {\n",
      "    value {\n",
      "      int64_value: 55\n",
      "      metadata {\n",
      "        generate_time {\n",
      "          seconds: 1629493102\n",
      "          nanos: 261000000\n",
      "        }\n",
      "      }\n",
      "    }\n",
      "  }\n",
      "  data {\n",
      "    value {\n",
      "      string_value: \"Female\"\n",
      "      metadata {\n",
      "        generate_time {\n",
      "          seconds: 1629493102\n",
      "          nanos: 261000000\n",
      "        }\n",
      "      }\n",
      "    }\n",
      "  }\n",
      "  data {\n",
      "    value {\n",
      "      string_array_value {\n",
      "        values: \"Drama\"\n",
      "      }\n",
      "      metadata {\n",
      "        generate_time {\n",
      "          seconds: 1629493102\n",
      "          nanos: 261000000\n",
      "        }\n",
      "      }\n",
      "    }\n",
      "  }\n",
      "}\n",
      "\n",
      "entity_view {\n",
      "  entity_id: \"bob\"\n",
      "  data {\n",
      "    value {\n",
      "      int64_value: 35\n",
      "      metadata {\n",
      "        generate_time {\n",
      "          seconds: 1629493102\n",
      "          nanos: 261000000\n",
      "        }\n",
      "      }\n",
      "    }\n",
      "  }\n",
      "  data {\n",
      "    value {\n",
      "      string_value: \"Male\"\n",
      "      metadata {\n",
      "        generate_time {\n",
      "          seconds: 1629493102\n",
      "          nanos: 261000000\n",
      "        }\n",
      "      }\n",
      "    }\n",
      "  }\n",
      "  data {\n",
      "    value {\n",
      "      string_array_value {\n",
      "        values: \"Action\"\n",
      "        values: \"Adventure\"\n",
      "      }\n",
      "      metadata {\n",
      "        generate_time {\n",
      "          seconds: 1629493102\n",
      "          nanos: 261000000\n",
      "        }\n",
      "      }\n",
      "    }\n",
      "  }\n",
      "}\n",
      "\n"
     ]
    }
   ],
   "source": [
    "response_stream = data_client.streaming_read_feature_values(\n",
    "    featurestore_online_service_pb2.StreamingReadFeatureValuesRequest(\n",
    "        entity_type=admin_client.entity_type_path(\n",
    "            PROJECT_ID, REGION, FEATURESTORE_ID, \"users\"\n",
    "        ),\n",
    "        entity_ids=[\"alice\", \"bob\"],\n",
    "        feature_selector=feature_selector,\n",
    "    )\n",
    ")\n",
    "\n",
    "for response in response_stream:\n",
    "    print(response)"
   ]
  },
  {
   "cell_type": "markdown",
   "id": "27a4d472-53d6-41ec-970a-b280a51ca49a",
   "metadata": {},
   "source": [
    "## Clean Up"
   ]
  },
  {
   "cell_type": "code",
   "execution_count": 12,
   "id": "a2a4d9b7-55e0-4bcf-8b56-d69ebab46210",
   "metadata": {},
   "outputs": [
    {
     "data": {
      "text/plain": []
     },
     "execution_count": 12,
     "metadata": {},
     "output_type": "execute_result"
    }
   ],
   "source": [
    "feature_store_delete_request=featurestore_service_pb2.DeleteFeaturestoreRequest(\n",
    "        name=FEATURESTORE_RESOURCE_NAME,\n",
    "        force=True\n",
    "    )\n",
    "admin_client.delete_featurestore(request=feature_store_delete_request).result()"
   ]
  }
 ],
 "metadata": {
  "environment": {
   "kernel": "python3",
   "name": "tf2-gpu.2-6.m84",
   "type": "gcloud",
   "uri": "gcr.io/deeplearning-platform-release/tf2-gpu.2-6:m84"
  },
  "kernelspec": {
   "display_name": "Python 3",
   "language": "python",
   "name": "python3"
  },
  "language_info": {
   "codemirror_mode": {
    "name": "ipython",
    "version": 3
   },
   "file_extension": ".py",
   "mimetype": "text/x-python",
   "name": "python",
   "nbconvert_exporter": "python",
   "pygments_lexer": "ipython3",
   "version": "3.7.12"
  }
 },
 "nbformat": 4,
 "nbformat_minor": 5
}
