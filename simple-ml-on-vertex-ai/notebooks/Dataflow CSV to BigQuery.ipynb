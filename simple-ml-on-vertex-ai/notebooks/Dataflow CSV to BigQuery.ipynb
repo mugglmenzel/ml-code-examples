{
 "cells": [
  {
   "cell_type": "code",
   "execution_count": 4,
   "id": "85a41487-420c-4968-a418-7ca9f45efcce",
   "metadata": {},
   "outputs": [],
   "source": [
    "import argparse\n",
    "from datetime import datetime\n",
    "import logging\n",
    "import os\n",
    "\n",
    "import apache_beam as beam\n",
    "from apache_beam.options.pipeline_options import PipelineOptions"
   ]
  },
  {
   "cell_type": "code",
   "execution_count": 5,
   "id": "15cc9d10-b022-4367-b33e-7773801f1a9d",
   "metadata": {},
   "outputs": [],
   "source": [
    "PROJECT = 'sandbox-michael-menzel'\n",
    "REGION = 'europe-west4'\n",
    "BUCKET = 'gs://sandbox-michael-menzel-training-europe-west4/staging'\n",
    "\n",
    "DATA_FILE = 'gs://sandbox-michael-menzel-data-europe-west4/advertising-regression-data/advertising.csv'\n",
    "\n",
    "PIPELINE_DISPLAY_NAME = f'dataflow-adhoc-{int(datetime.now().timestamp())}'"
   ]
  },
  {
   "cell_type": "code",
   "execution_count": 6,
   "id": "ee0b794e-d410-43e6-b3a8-1c9b75d774dc",
   "metadata": {},
   "outputs": [
    {
     "data": {
      "application/javascript": [
       "\n",
       "        if (typeof window.interactive_beam_jquery == 'undefined') {\n",
       "          var jqueryScript = document.createElement('script');\n",
       "          jqueryScript.src = 'https://code.jquery.com/jquery-3.4.1.slim.min.js';\n",
       "          jqueryScript.type = 'text/javascript';\n",
       "          jqueryScript.onload = function() {\n",
       "            var datatableScript = document.createElement('script');\n",
       "            datatableScript.src = 'https://cdn.datatables.net/1.10.20/js/jquery.dataTables.min.js';\n",
       "            datatableScript.type = 'text/javascript';\n",
       "            datatableScript.onload = function() {\n",
       "              window.interactive_beam_jquery = jQuery.noConflict(true);\n",
       "              window.interactive_beam_jquery(document).ready(function($){\n",
       "                \n",
       "              });\n",
       "            }\n",
       "            document.head.appendChild(datatableScript);\n",
       "          };\n",
       "          document.head.appendChild(jqueryScript);\n",
       "        } else {\n",
       "          window.interactive_beam_jquery(document).ready(function($){\n",
       "            \n",
       "          });\n",
       "        }"
      ]
     },
     "metadata": {},
     "output_type": "display_data"
    },
    {
     "name": "stderr",
     "output_type": "stream",
     "text": [
      "/home/jupyter/.local/lib/python3.7/site-packages/apache_beam/io/gcp/bigquery.py:2102: BeamDeprecationWarning: options is deprecated since First stable release. References to <pipeline>.options will not be supported\n",
      "  self.table_reference.projectId = pcoll.pipeline.options.view_as(\n",
      "/home/jupyter/.local/lib/python3.7/site-packages/apache_beam/io/gcp/bigquery_file_loads.py:1112: BeamDeprecationWarning: options is deprecated since First stable release. References to <pipeline>.options will not be supported\n",
      "  temp_location = p.options.view_as(GoogleCloudOptions).temp_location\n",
      "WARNING:root:Make sure that locally built Python SDK docker image has Python 3.7 interpreter.\n",
      "WARNING:apache_beam.options.pipeline_options:Discarding unparseable args: ['-f', '/home/jupyter/.local/share/jupyter/runtime/kernel-beaedf14-dac5-4709-b6be-33c2266fcb1d.json']\n",
      "WARNING:apache_beam.options.pipeline_options:Discarding unparseable args: ['-f', '/home/jupyter/.local/share/jupyter/runtime/kernel-beaedf14-dac5-4709-b6be-33c2266fcb1d.json']\n"
     ]
    }
   ],
   "source": [
    "table_schema = {\n",
    "    'fields': [\n",
    "        {\n",
    "            \"name\": \"TV\",\n",
    "            \"type\": \"FLOAT\",\n",
    "            \"mode\": \"REQUIRED\"\n",
    "        },\n",
    "        {\n",
    "            \"name\": \"Radio\",\n",
    "            \"type\": \"STRING\",\n",
    "            \"mode\": \"REQUIRED\"\n",
    "        },\n",
    "        {\n",
    "            \"name\": \"Newspaper\",\n",
    "            \"type\": \"FLOAT\",\n",
    "            \"mode\": \"REQUIRED\"\n",
    "        },\n",
    "        {\n",
    "            \"name\": \"Sales\",\n",
    "            \"type\": \"FLOAT\",\n",
    "            \"mode\": \"REQUIRED\"\n",
    "        },\n",
    "    ]}\n",
    "\n",
    "def parse_file(element):\n",
    "    import csv\n",
    "    for TV, radio, newspaper, sales in csv.reader([element], quotechar='\"', delimiter=',', quoting=csv.QUOTE_ALL, skipinitialspace=True):\n",
    "        return {'TV': TV, 'Radio': radio, 'Newspaper': newspaper, 'Sales': sales}\n",
    "\n",
    "    \n",
    "\n",
    "options = PipelineOptions(\n",
    "    job_name=PIPELINE_DISPLAY_NAME,\n",
    "    save_main_session=True,\n",
    "    runner='DataflowRunner',\n",
    "    project = PROJECT,\n",
    "    region = REGION,\n",
    "    temp_location = BUCKET,\n",
    "    staging_location = BUCKET,\n",
    ")\n",
    "\n",
    "with beam.Pipeline(options=options) as pipeline:\n",
    "    (\n",
    "        pipeline\n",
    "        | 'Read CSV from GCS' >> beam.io.ReadFromText(DATA_FILE)\n",
    "        | 'Parse CSV file' >> beam.Map(parse_file)\n",
    "        | 'Write To BigQuery' >> beam.io.WriteToBigQuery(\n",
    "            'example_dataset.advertising_regression',\n",
    "            schema=table_schema,\n",
    "            write_disposition=beam.io.BigQueryDisposition.WRITE_TRUNCATE,\n",
    "            create_disposition=beam.io.BigQueryDisposition.CREATE_IF_NEEDED)\n",
    "    )"
   ]
  },
  {
   "cell_type": "code",
   "execution_count": null,
   "id": "ea1bec04-ce5b-4d4a-a801-dac1853454a7",
   "metadata": {},
   "outputs": [],
   "source": []
  }
 ],
 "metadata": {
  "environment": {
   "kernel": "python3",
   "name": "tf2-gpu.2-6.m87",
   "type": "gcloud",
   "uri": "gcr.io/deeplearning-platform-release/tf2-gpu.2-6:m87"
  },
  "kernelspec": {
   "display_name": "Python 3",
   "language": "python",
   "name": "python3"
  },
  "language_info": {
   "codemirror_mode": {
    "name": "ipython",
    "version": 3
   },
   "file_extension": ".py",
   "mimetype": "text/x-python",
   "name": "python",
   "nbconvert_exporter": "python",
   "pygments_lexer": "ipython3",
   "version": "3.7.12"
  }
 },
 "nbformat": 4,
 "nbformat_minor": 5
}
