{
 "cells": [
  {
   "cell_type": "markdown",
   "id": "374a779a-2a90-4032-afed-b9f3c1ffdf96",
   "metadata": {},
   "source": [
    "# Regression Model with Tensorflow Decision Forests (remote)"
   ]
  },
  {
   "cell_type": "code",
   "execution_count": 1,
   "id": "36aa8f6f-b90b-4ed9-a501-abdd864a29a4",
   "metadata": {},
   "outputs": [],
   "source": [
    "!pip install -q --user --no-warn-conflicts google-cloud-aiplatform pandas-gbq\n",
    "from datetime import datetime\n",
    "\n",
    "import pandas as pd\n",
    "\n",
    "from google.cloud import aiplatform\n",
    "\n",
    "aiplatform.init(location='europe-west4')"
   ]
  },
  {
   "cell_type": "markdown",
   "id": "45f23a24-3c6f-47a3-a1a6-3e093c4260f4",
   "metadata": {},
   "source": [
    "## Load Data with BigQuery"
   ]
  },
  {
   "cell_type": "code",
   "execution_count": 2,
   "id": "a0450093-2cf0-4878-b401-fe08ec1c064a",
   "metadata": {
    "tags": []
   },
   "outputs": [
    {
     "name": "stderr",
     "output_type": "stream",
     "text": [
      "  0%|          | 0/1 [00:00<?, ?it/s]"
     ]
    },
    {
     "name": "stdout",
     "output_type": "stream",
     "text": [
      "200 out of 200 rows loaded.\n"
     ]
    },
    {
     "name": "stderr",
     "output_type": "stream",
     "text": [
      "100%|██████████| 1/1 [00:00<00:00, 1278.75it/s]\n"
     ]
    }
   ],
   "source": [
    "df_csv = pd.read_csv('gs://sandbox-michael-menzel-data-europe-west4/advertising-regression-data/advertising_with_header.csv')\n",
    "df_csv.to_gbq('example_dataset.advertising_regression', if_exists='replace')"
   ]
  },
  {
   "cell_type": "markdown",
   "id": "928a54f9-140f-47ff-ac8d-e6ec44e89077",
   "metadata": {},
   "source": [
    "## Training Script"
   ]
  },
  {
   "cell_type": "code",
   "execution_count": 3,
   "id": "2f505651-512d-4e00-b481-dd5a59c1344c",
   "metadata": {},
   "outputs": [
    {
     "name": "stdout",
     "output_type": "stream",
     "text": [
      "Overwriting build/tfdf_reg_train.py\n"
     ]
    }
   ],
   "source": [
    "%%writefile build/tfdf_reg_train.py\n",
    "\n",
    "from __future__ import absolute_import\n",
    "from __future__ import division\n",
    "from __future__ import print_function\n",
    "\n",
    "import argparse\n",
    "import collections\n",
    "from datetime import datetime\n",
    "import io\n",
    "import os\n",
    "\n",
    "import numpy as np\n",
    "import pandas as pd\n",
    "\n",
    "import matplotlib.pyplot as plt\n",
    "import seaborn as sns\n",
    "\n",
    "import tensorflow as tf\n",
    "import tensorflow_decision_forests as tfdf\n",
    "import tensorflow_addons as tfa\n",
    "\n",
    "from google.cloud import bigquery\n",
    "\n",
    "import hypertune\n",
    "\n",
    "hpt = hypertune.HyperTune()\n",
    "\n",
    "file_writer = tf.summary.create_file_writer(os.environ['AIP_TENSORBOARD_LOG_DIR'])\n",
    "\n",
    "class MetricReporter(tf.keras.callbacks.Callback):\n",
    "    def on_epoch_end(self, epoch, logs=None):\n",
    "        if logs:\n",
    "            for metric in logs:\n",
    "                print(f\"Reporting {metric}: {logs[metric]} in epoch: {epoch}\")\n",
    "                hpt.report_hyperparameter_tuning_metric(\n",
    "                    hyperparameter_metric_tag=metric,\n",
    "                    metric_value=logs[metric],\n",
    "                    global_step=epoch)\n",
    "\n",
    "def plot_to_image(figure):\n",
    "    buf = io.BytesIO()\n",
    "    plt.savefig(buf, format='png')\n",
    "    plt.close(figure)\n",
    "    buf.seek(0)\n",
    "    return tf.expand_dims(tf.image.decode_png(buf.getvalue(), channels=4), 0)\n",
    "\n",
    "def log_prediction_scatter(epoch, logs):\n",
    "    for title, dataset in DATASETS.items():\n",
    "        test_pred = tf.cast(tf.squeeze(model.predict(dataset.unbatch().batch(1))), tf.float64)\n",
    "        test_truth = tf.squeeze(LABELS[title])\n",
    "        \n",
    "        df = pd.DataFrame({'predicted': test_pred, 'truth': test_truth})\n",
    "        df['error'] = tf.subtract(test_pred, test_truth)\n",
    "        \n",
    "        figure, ax = plt.subplots()\n",
    "        sns.scatterplot(data=df.sort_values('truth').reset_index(drop=True), ax=ax)\n",
    "        plt.title(f'Prediction & Error Scatter ({title}):')\n",
    "        scatter_image = plot_to_image(figure)\n",
    "\n",
    "        with file_writer.as_default():\n",
    "            tf.summary.image(f'Prediction vs. Truth ({title})', scatter_image, step=epoch)\n",
    "\n",
    "\n",
    "\n",
    "\n",
    "query_job = bigquery.Client(project='sandbox-michael-menzel').query('select * from example_dataset.advertising_regression')\n",
    "df = query_job.result().to_dataframe()\n",
    "TARGET = 'Sales'\n",
    "\n",
    "test_split = int(len(df[TARGET]) * 0.1)\n",
    "print(f'Splitting dataset into {len(df[TARGET]) - test_split} items for training and {test_split} items for test.')\n",
    "\n",
    "dataset_train = (tfdf.keras.pd_dataframe_to_tf_dataset(df[test_split:], label=TARGET, task=tfdf.keras.Task.REGRESSION)\n",
    "                 .cache())\n",
    "dataset_test = (tfdf.keras.pd_dataframe_to_tf_dataset(df[:test_split], label=TARGET, task=tfdf.keras.Task.REGRESSION)\n",
    "                .cache())\n",
    "\n",
    "train_labels = list(dataset_train.map(lambda x, y: y))\n",
    "test_labels = list(dataset_test.map(lambda x, y: y))\n",
    "\n",
    "LABELS = {'Test': test_labels, 'Train': train_labels}\n",
    "DATASETS = {'Test': dataset_test, 'Train': dataset_train}\n",
    "\n",
    "\n",
    "def rmse(y_true, y_pred):\n",
    "    return tf.sqrt(tf.reduce_mean((y_true - y_pred)**2))\n",
    "\n",
    "model = tfdf.keras.GradientBoostedTreesModel(task=tfdf.keras.Task.REGRESSION)\n",
    "model.compile(metrics=[rmse, 'mse', 'mae', 'mape', tfa.metrics.RSquare(y_shape=(1,))])\n",
    "history = model.fit(dataset_train,\n",
    "                    callbacks=[\n",
    "                        MetricReporter(),\n",
    "                        tf.keras.callbacks.LambdaCallback(on_epoch_end=log_prediction_scatter),\n",
    "                        tf.keras.callbacks.TensorBoard(\n",
    "                            log_dir=os.getenv(\"AIP_TENSORBOARD_LOG_DIR\"))\n",
    "                    ])\n",
    "\n",
    "print('Evaluating the model...')\n",
    "model.evaluate(dataset_test, callbacks=[tf.keras.callbacks.TensorBoard(log_dir=os.getenv(\"AIP_TENSORBOARD_LOG_DIR\"))])\n",
    "\n",
    "model.save(os.getenv(\"AIP_MODEL_DIR\"))\n"
   ]
  },
  {
   "cell_type": "markdown",
   "id": "87018aed-f197-4060-9ee1-30c7459d1ba9",
   "metadata": {},
   "source": [
    "## Start Training Script on Vertex AI"
   ]
  },
  {
   "cell_type": "code",
   "execution_count": 4,
   "id": "6eae50e5-952a-41c3-a71f-50e804e019c4",
   "metadata": {},
   "outputs": [
    {
     "name": "stdout",
     "output_type": "stream",
     "text": [
      "INFO:google.cloud.aiplatform.utils.source_utils:Training script copied to:\n",
      "gs://sandbox-michael-menzel-training-europe-west4/tfdf-sales-regression-training/aiplatform-2022-01-23-15:26:26.419-aiplatform_custom_trainer_script-0.1.tar.gz.\n",
      "INFO:google.cloud.aiplatform.training_jobs:Training Output directory:\n",
      "gs://sandbox-michael-menzel-training-europe-west4/tfdf-sales-regression-training/aiplatform-custom-training-2022-01-23-15:26:26.510 \n",
      "INFO:google.cloud.aiplatform.training_jobs:View Training:\n",
      "https://console.cloud.google.com/ai/platform/locations/europe-west4/training/8404581120812777472?project=928871478446\n",
      "INFO:google.cloud.aiplatform.training_jobs:CustomTrainingJob projects/928871478446/locations/europe-west4/trainingPipelines/8404581120812777472 current state:\n",
      "PipelineState.PIPELINE_STATE_RUNNING\n",
      "INFO:google.cloud.aiplatform.training_jobs:View backing custom job:\n",
      "https://console.cloud.google.com/ai/platform/locations/europe-west4/training/8475231339967152128?project=928871478446\n",
      "INFO:google.cloud.aiplatform.training_jobs:View tensorboard:\n",
      "https://europe-west4.tensorboard.googleusercontent.com/experiment/projects+sandbox-michael-menzel+locations+europe-west4+tensorboards+2056808023568941056+experiments+8475231339967152128\n",
      "INFO:google.cloud.aiplatform.training_jobs:CustomTrainingJob projects/928871478446/locations/europe-west4/trainingPipelines/8404581120812777472 current state:\n",
      "PipelineState.PIPELINE_STATE_RUNNING\n",
      "INFO:google.cloud.aiplatform.training_jobs:CustomTrainingJob projects/928871478446/locations/europe-west4/trainingPipelines/8404581120812777472 current state:\n",
      "PipelineState.PIPELINE_STATE_RUNNING\n",
      "INFO:google.cloud.aiplatform.training_jobs:CustomTrainingJob projects/928871478446/locations/europe-west4/trainingPipelines/8404581120812777472 current state:\n",
      "PipelineState.PIPELINE_STATE_RUNNING\n",
      "INFO:google.cloud.aiplatform.training_jobs:CustomTrainingJob projects/928871478446/locations/europe-west4/trainingPipelines/8404581120812777472 current state:\n",
      "PipelineState.PIPELINE_STATE_RUNNING\n",
      "INFO:google.cloud.aiplatform.training_jobs:CustomTrainingJob projects/928871478446/locations/europe-west4/trainingPipelines/8404581120812777472 current state:\n",
      "PipelineState.PIPELINE_STATE_RUNNING\n",
      "INFO:google.cloud.aiplatform.training_jobs:CustomTrainingJob run completed. Resource name: projects/928871478446/locations/europe-west4/trainingPipelines/8404581120812777472\n",
      "INFO:google.cloud.aiplatform.training_jobs:Model available at projects/928871478446/locations/europe-west4/models/8653191694969208832\n"
     ]
    }
   ],
   "source": [
    "TIMESTAMP = int(datetime.now().timestamp())\n",
    "JOB_NAME = f'tfdf-sales-regression-training-{TIMESTAMP}'\n",
    "TENSORBOARD = 'projects/sandbox-michael-menzel/locations/europe-west4/tensorboards/2056808023568941056'\n",
    "SERVICE_ACCOUNT = !gcloud config get-value account\n",
    "SERVICE_ACCOUNT = SERVICE_ACCOUNT[0]\n",
    "\n",
    "vertex_ai_job = aiplatform.CustomTrainingJob(\n",
    "    display_name=JOB_NAME,\n",
    "    script_path='build/tfdf_reg_train.py',\n",
    "    container_uri='europe-docker.pkg.dev/vertex-ai/training/tf-cpu.2-6:latest',\n",
    "    staging_bucket='gs://sandbox-michael-menzel-training-europe-west4/tfdf-sales-regression-training/',\n",
    "    requirements=['tensorflow_decision_forests', 'tensorflow-addons'],\n",
    "    model_serving_container_image_uri='europe-docker.pkg.dev/vertex-ai/prediction/tf2-cpu.2-6:latest',\n",
    ")\n",
    "\n",
    "vertex_ai_model = vertex_ai_job.run(\n",
    "    replica_count=1, \n",
    "    machine_type='n1-standard-4',\n",
    "    tensorboard=TENSORBOARD,\n",
    "    service_account=SERVICE_ACCOUNT,\n",
    "    args=[]\n",
    ")"
   ]
  },
  {
   "cell_type": "code",
   "execution_count": null,
   "id": "04cdf72c-2066-435d-9ff2-6c5b9fbf72c2",
   "metadata": {},
   "outputs": [],
   "source": []
  }
 ],
 "metadata": {
  "environment": {
   "kernel": "python3",
   "name": "tf2-gpu.2-6.m87",
   "type": "gcloud",
   "uri": "gcr.io/deeplearning-platform-release/tf2-gpu.2-6:m87"
  },
  "kernelspec": {
   "display_name": "Python 3",
   "language": "python",
   "name": "python3"
  },
  "language_info": {
   "codemirror_mode": {
    "name": "ipython",
    "version": 3
   },
   "file_extension": ".py",
   "mimetype": "text/x-python",
   "name": "python",
   "nbconvert_exporter": "python",
   "pygments_lexer": "ipython3",
   "version": "3.7.12"
  }
 },
 "nbformat": 4,
 "nbformat_minor": 5
}
