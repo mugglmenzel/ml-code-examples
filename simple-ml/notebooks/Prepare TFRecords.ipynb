{
 "cells": [
  {
   "cell_type": "markdown",
   "id": "b78a7012",
   "metadata": {},
   "source": [
    "# Prepare Spleen Data as TFRecords"
   ]
  },
  {
   "cell_type": "code",
   "execution_count": 1,
   "id": "56750d55",
   "metadata": {},
   "outputs": [],
   "source": [
    "!pip install --quiet nibabel apache-beam[gcp,interactive]\n",
    "\n",
    "import json\n",
    "import os\n",
    "from google.cloud import storage\n",
    "\n",
    "gcs_client = storage.Client()"
   ]
  },
  {
   "cell_type": "markdown",
   "id": "192e3315",
   "metadata": {},
   "source": [
    "Parameters to define the location:"
   ]
  },
  {
   "cell_type": "code",
   "execution_count": 2,
   "id": "1cd4e887",
   "metadata": {},
   "outputs": [],
   "source": [
    "BUCKET = 'bayer-caip-poc-datasets'\n",
    "DATASET_FOLDER = 'medical-segmentation-decathlon-spleen'\n",
    "DATASET_DESCR = 'dataset.json'"
   ]
  },
  {
   "cell_type": "markdown",
   "id": "e299e72e",
   "metadata": {},
   "source": [
    "## Test Reading the Dataset Descriptor"
   ]
  },
  {
   "cell_type": "code",
   "execution_count": 3,
   "id": "b3444f86",
   "metadata": {},
   "outputs": [],
   "source": [
    "def convert_to_dataset_file(filepath):\n",
    "    import os\n",
    "    \n",
    "    return os.path.normpath(os.path.join(DATASET_FOLDER, filepath))"
   ]
  },
  {
   "cell_type": "code",
   "execution_count": 13,
   "id": "df833f4e",
   "metadata": {},
   "outputs": [],
   "source": [
    "gcs_bucket = gcs_client.get_bucket(BUCKET)\n",
    "\n",
    "data = json.loads(gcs_bucket.blob(convert_to_dataset_file(DATASET_DESCR)).download_as_string())\n",
    "images = [os.path.join('gs://', BUCKET, convert_to_dataset_file(s['image'])) for s in data['training']]\n",
    "labels = [os.path.join('gs://', BUCKET, convert_to_dataset_file(s['label'])) for s in data['training']]"
   ]
  },
  {
   "cell_type": "markdown",
   "id": "878db719",
   "metadata": {},
   "source": [
    "## Apache Beam to Convert Spleen Dataset at Scale"
   ]
  },
  {
   "cell_type": "code",
   "execution_count": 15,
   "id": "86f3ad84",
   "metadata": {},
   "outputs": [],
   "source": [
    "def parse_json_dataset(file, key, bucket, folder):\n",
    "    import json\n",
    "    import os\n",
    "    with file.open() as f:\n",
    "        return [os.path.join('gs://', bucket, folder, os.path.normpath(s[key])) \n",
    "                for s in json.loads(f.read().decode('utf-8'))['training']]\n",
    "\n",
    "def convert_nib_to_tensor(readable):\n",
    "    import os\n",
    "    import shutil\n",
    "    import tempfile\n",
    "    \n",
    "    from apache_beam.io import filesystem as beam_fs\n",
    "    \n",
    "    import nibabel as nib\n",
    "    import tensorflow as tf\n",
    "    \n",
    "    idx = readable.metadata.path.split('_')[-1]\n",
    "    \n",
    "    _, dlfilename = tempfile.mkstemp(suffix='.nii.gz')\n",
    "    with readable.open(compression_type=beam_fs.CompressionTypes.UNCOMPRESSED) as nzf:\n",
    "        with open(dlfilename, 'wb') as dlf:\n",
    "            shutil.copyfileobj(nzf, dlf)\n",
    "\n",
    "    image_tensor = tf.cast(tf.convert_to_tensor(nib.load(dlfilename).get_fdata()), tf.float32)\n",
    "    os.remove(dlfilename)\n",
    "    \n",
    "    return (idx, image_tensor)\n",
    "\n",
    "def construct_TFRecord(tensor_group):\n",
    "    import tensorflow as tf\n",
    "    \n",
    "    idx, tensors = tensor_group\n",
    "    image_tensor_serialized = tf.io.serialize_tensor(tensors['image']).numpy()\n",
    "    image_feature = tf.train.Feature(bytes_list=tf.train.BytesList(value=[image_tensor_serialized]))\n",
    "    label_tensor_serialized = tf.io.serialize_tensor(tensors['label']).numpy()\n",
    "    label_feature = tf.train.Feature(bytes_list=tf.train.BytesList(value=[label_tensor_serialized]))\n",
    "    \n",
    "    return tf.train.Example(features=tf.train.Features(feature={'image': image_feature, 'label': label_feature})).SerializeToString()"
   ]
  },
  {
   "cell_type": "code",
   "execution_count": 16,
   "id": "7fc45cc7",
   "metadata": {},
   "outputs": [
    {
     "name": "stderr",
     "output_type": "stream",
     "text": [
      "WARNING:root:Make sure that locally built Python SDK docker image has Python 3.7 interpreter.\n",
      "WARNING:apache_beam.options.pipeline_options:Discarding unparseable args: ['-f', '/home/jupyter/.local/share/jupyter/runtime/kernel-188c2774-19b3-4072-b20d-fc960bf86ecb.json']\n",
      "WARNING:apache_beam.options.pipeline_options:Discarding unparseable args: ['-f', '/home/jupyter/.local/share/jupyter/runtime/kernel-188c2774-19b3-4072-b20d-fc960bf86ecb.json']\n",
      "WARNING:root:Make sure that locally built Python SDK docker image has Python 3.7 interpreter.\n",
      "WARNING:apache_beam.options.pipeline_options:Discarding unparseable args: ['-f', '/home/jupyter/.local/share/jupyter/runtime/kernel-188c2774-19b3-4072-b20d-fc960bf86ecb.json']\n",
      "WARNING:apache_beam.options.pipeline_options:Discarding unparseable args: ['-f', '/home/jupyter/.local/share/jupyter/runtime/kernel-188c2774-19b3-4072-b20d-fc960bf86ecb.json']\n"
     ]
    }
   ],
   "source": [
    "import apache_beam as beam\n",
    "from apache_beam.io import fileio as beam_fileio\n",
    "from apache_beam.io import tfrecordio as beam_tfrecordio\n",
    "from datetime import datetime\n",
    "\n",
    "PROJECT = !gcloud config get-value project 2> /dev/null\n",
    "JSON_INPUT = os.path.join('gs://', BUCKET, convert_to_dataset_file(DATASET_DESCR))\n",
    "TFRECORD_OUTPUT = os.path.join('gs://', BUCKET, DATASET_FOLDER, 'tfrecords', 'spleen.tfrecord')\n",
    "\n",
    "p_options = beam.options.pipeline_options.PipelineOptions(\n",
    "    runner='DataflowRunner',\n",
    "    project=PROJECT[0],\n",
    "    job_name=f'nii-to-tfrecords-{int(datetime.now().timestamp())}',\n",
    "    temp_location='gs://bayer-caip-poc-datasets/dataflow/temp',\n",
    "    staging_location='gs://bayer-caip-poc-datasets/dataflow/staging',\n",
    "    region='europe-west1',\n",
    "    machine_type='n1-standard-16',\n",
    "    disk_size_gb=200,\n",
    "    service_account_email='dataflow-runner@bayer-caip-poc.iam.gserviceaccount.com',\n",
    "    requirements_file='./dataflow-requirements.txt');\n",
    "\n",
    "with beam.Pipeline(options=p_options) as p:\n",
    "    json_descr = (p | \"Find JSON dataset descriptor\" >> beam_fileio.MatchFiles(JSON_INPUT)\n",
    "                    | \"Read JSON dataset descriptor\" >> beam_fileio.ReadMatches())\n",
    "    images = (json_descr | \"Extract images from JSON dataset descriptor\" >> beam.FlatMap(parse_json_dataset, key='image', bucket=BUCKET, folder=DATASET_FOLDER)\n",
    "                         | \"Load dataset images\" >> beam_fileio.ReadMatches()\n",
    "                         | \"Convert nibabel images to tensors\" >> beam.Map(convert_nib_to_tensor))\n",
    "    labels = (json_descr | \"Extract labels from JSON dataset descriptor\" >> beam.FlatMap(parse_json_dataset, key='label', bucket=BUCKET, folder=DATASET_FOLDER)\n",
    "                         | \"Load dataset labels\" >> beam_fileio.ReadMatches()\n",
    "                         | \"Convert nibabel labels to tensors\" >> beam.Map(convert_nib_to_tensor))\n",
    "    ({'image': images, 'label': labels} \n",
    "     | \"Merge\" >> beam.CoGroupByKey() \n",
    "     | \"Construct TFRecords\" >> beam.Map(construct_TFRecord) \n",
    "     | \"Store TFRecords\" >> beam_tfrecordio.WriteToTFRecord(TFRECORD_OUTPUT))\n",
    "    result = p.run()\n",
    "    result.wait_until_finish()"
   ]
  },
  {
   "cell_type": "code",
   "execution_count": null,
   "id": "3f412fa8",
   "metadata": {},
   "outputs": [],
   "source": []
  }
 ],
 "metadata": {
  "environment": {
   "name": "tf2-gpu.2-4.m65",
   "type": "gcloud",
   "uri": "gcr.io/deeplearning-platform-release/tf2-gpu.2-4:m65"
  },
  "kernelspec": {
   "display_name": "Python 3.9.9 64-bit",
   "language": "python",
   "name": "python3"
  },
  "language_info": {
   "codemirror_mode": {
    "name": "ipython",
    "version": 3
   },
   "file_extension": ".py",
   "mimetype": "text/x-python",
   "name": "python",
   "nbconvert_exporter": "python",
   "pygments_lexer": "ipython3",
   "version": "3.9.9"
  },
  "vscode": {
   "interpreter": {
    "hash": "aee8b7b246df8f9039afb4144a1f6fd8d2ca17a180786b69acc140d282b71a49"
   }
  }
 },
 "nbformat": 4,
 "nbformat_minor": 5
}
